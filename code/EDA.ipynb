{
 "cells": [
  {
   "cell_type": "code",
   "execution_count": 1,
   "id": "501d5ce2-2647-4f95-b26b-00628c12e21a",
   "metadata": {},
   "outputs": [],
   "source": [
    "import pickle as pickle\n",
    "import os\n",
    "import pandas as pd\n",
    "import torch\n",
    "from torch.utils.data import DataLoader\n",
    "import numpy as np\n",
    "from load_data import *\n",
    "import matplotlib.pyplot as plt\n",
    "import re"
   ]
  },
  {
   "cell_type": "code",
   "execution_count": 2,
   "id": "d1b6145d-b883-4142-8d83-f6bb8b22236c",
   "metadata": {},
   "outputs": [],
   "source": [
    "def label_to_num(label):\n",
    "  num_label = []\n",
    "  with open('dict_label_to_num.pkl', 'rb') as f:\n",
    "    dict_label_to_num = pickle.load(f)\n",
    "  for v in label:\n",
    "    num_label.append(dict_label_to_num[v])\n",
    "  \n",
    "  return num_label"
   ]
  },
  {
   "cell_type": "code",
   "execution_count": 3,
   "id": "7f0760ca-da17-41eb-b495-9f80ee9fb4ac",
   "metadata": {},
   "outputs": [
    {
     "data": {
      "text/html": [
       "<div>\n",
       "<style scoped>\n",
       "    .dataframe tbody tr th:only-of-type {\n",
       "        vertical-align: middle;\n",
       "    }\n",
       "\n",
       "    .dataframe tbody tr th {\n",
       "        vertical-align: top;\n",
       "    }\n",
       "\n",
       "    .dataframe thead th {\n",
       "        text-align: right;\n",
       "    }\n",
       "</style>\n",
       "<table border=\"1\" class=\"dataframe\">\n",
       "  <thead>\n",
       "    <tr style=\"text-align: right;\">\n",
       "      <th></th>\n",
       "      <th>id</th>\n",
       "      <th>sentence</th>\n",
       "      <th>subject_entity</th>\n",
       "      <th>object_entity</th>\n",
       "      <th>label</th>\n",
       "    </tr>\n",
       "  </thead>\n",
       "  <tbody>\n",
       "    <tr>\n",
       "      <th>0</th>\n",
       "      <td>0</td>\n",
       "      <td>〈Something〉는 조지 해리슨이 쓰고 비틀즈가 1969년 앨범 《Abbey R...</td>\n",
       "      <td>비틀즈</td>\n",
       "      <td>조지 해리슨</td>\n",
       "      <td>no_relation</td>\n",
       "    </tr>\n",
       "    <tr>\n",
       "      <th>1</th>\n",
       "      <td>1</td>\n",
       "      <td>호남이 기반인 바른미래당·대안신당·민주평화당이 우여곡절 끝에 합당해 민생당(가칭)으...</td>\n",
       "      <td>민주평화당</td>\n",
       "      <td>대안신당</td>\n",
       "      <td>no_relation</td>\n",
       "    </tr>\n",
       "    <tr>\n",
       "      <th>2</th>\n",
       "      <td>2</td>\n",
       "      <td>K리그2에서 성적 1위를 달리고 있는 광주FC는 지난 26일 한국프로축구연맹으로부터...</td>\n",
       "      <td>광주FC</td>\n",
       "      <td>한국프로축구연맹</td>\n",
       "      <td>org:member_of</td>\n",
       "    </tr>\n",
       "    <tr>\n",
       "      <th>3</th>\n",
       "      <td>3</td>\n",
       "      <td>균일가 생활용품점 (주)아성다이소(대표 박정부)는 코로나19 바이러스로 어려움을 겪...</td>\n",
       "      <td>아성다이소</td>\n",
       "      <td>박정부</td>\n",
       "      <td>org:top_members/employees</td>\n",
       "    </tr>\n",
       "    <tr>\n",
       "      <th>4</th>\n",
       "      <td>4</td>\n",
       "      <td>1967년 프로 야구 드래프트 1순위로 요미우리 자이언츠에게 입단하면서 등번호는 8...</td>\n",
       "      <td>요미우리 자이언츠</td>\n",
       "      <td>1967</td>\n",
       "      <td>no_relation</td>\n",
       "    </tr>\n",
       "    <tr>\n",
       "      <th>...</th>\n",
       "      <td>...</td>\n",
       "      <td>...</td>\n",
       "      <td>...</td>\n",
       "      <td>...</td>\n",
       "      <td>...</td>\n",
       "    </tr>\n",
       "    <tr>\n",
       "      <th>32465</th>\n",
       "      <td>32465</td>\n",
       "      <td>한국당은 7일 오전 9시부터 오후 5시까지 진행된 원내대표 및 정책위의장 후보자 등...</td>\n",
       "      <td>유기준</td>\n",
       "      <td>부산 서구·동구</td>\n",
       "      <td>per:employee_of</td>\n",
       "    </tr>\n",
       "    <tr>\n",
       "      <th>32466</th>\n",
       "      <td>32466</td>\n",
       "      <td>법포는 다시 최시형, 서병학, 손병희 직계인 북접과 다시 서장옥, 전봉준, 김개남을...</td>\n",
       "      <td>최시형</td>\n",
       "      <td>손병희</td>\n",
       "      <td>per:colleagues</td>\n",
       "    </tr>\n",
       "    <tr>\n",
       "      <th>32467</th>\n",
       "      <td>32467</td>\n",
       "      <td>완도군(군수 신우철)이 국토교통부에서 실시한 '2019 교통문화지수 실태조사'에서 ...</td>\n",
       "      <td>완도군</td>\n",
       "      <td>신우철</td>\n",
       "      <td>org:top_members/employees</td>\n",
       "    </tr>\n",
       "    <tr>\n",
       "      <th>32468</th>\n",
       "      <td>32468</td>\n",
       "      <td>중앙일보, JTBC 회장을 지낸 이후 중앙홀딩스 회장, 재단법인 한반도평화만들기 이...</td>\n",
       "      <td>JTBC</td>\n",
       "      <td>중앙홀딩스</td>\n",
       "      <td>no_relation</td>\n",
       "    </tr>\n",
       "    <tr>\n",
       "      <th>32469</th>\n",
       "      <td>32469</td>\n",
       "      <td>화순군(군수 구충곤)은 17일 동면의 이장 20여 명이 코로나 19 예방을 위해 버...</td>\n",
       "      <td>화순군</td>\n",
       "      <td>구충곤</td>\n",
       "      <td>org:top_members/employees</td>\n",
       "    </tr>\n",
       "  </tbody>\n",
       "</table>\n",
       "<p>32417 rows × 5 columns</p>\n",
       "</div>"
      ],
      "text/plain": [
       "          id                                           sentence  \\\n",
       "0          0  〈Something〉는 조지 해리슨이 쓰고 비틀즈가 1969년 앨범 《Abbey R...   \n",
       "1          1  호남이 기반인 바른미래당·대안신당·민주평화당이 우여곡절 끝에 합당해 민생당(가칭)으...   \n",
       "2          2  K리그2에서 성적 1위를 달리고 있는 광주FC는 지난 26일 한국프로축구연맹으로부터...   \n",
       "3          3  균일가 생활용품점 (주)아성다이소(대표 박정부)는 코로나19 바이러스로 어려움을 겪...   \n",
       "4          4  1967년 프로 야구 드래프트 1순위로 요미우리 자이언츠에게 입단하면서 등번호는 8...   \n",
       "...      ...                                                ...   \n",
       "32465  32465  한국당은 7일 오전 9시부터 오후 5시까지 진행된 원내대표 및 정책위의장 후보자 등...   \n",
       "32466  32466  법포는 다시 최시형, 서병학, 손병희 직계인 북접과 다시 서장옥, 전봉준, 김개남을...   \n",
       "32467  32467  완도군(군수 신우철)이 국토교통부에서 실시한 '2019 교통문화지수 실태조사'에서 ...   \n",
       "32468  32468  중앙일보, JTBC 회장을 지낸 이후 중앙홀딩스 회장, 재단법인 한반도평화만들기 이...   \n",
       "32469  32469  화순군(군수 구충곤)은 17일 동면의 이장 20여 명이 코로나 19 예방을 위해 버...   \n",
       "\n",
       "      subject_entity object_entity                      label  \n",
       "0                비틀즈        조지 해리슨                no_relation  \n",
       "1              민주평화당          대안신당                no_relation  \n",
       "2               광주FC      한국프로축구연맹              org:member_of  \n",
       "3              아성다이소           박정부  org:top_members/employees  \n",
       "4          요미우리 자이언츠          1967                no_relation  \n",
       "...              ...           ...                        ...  \n",
       "32465            유기준      부산 서구·동구            per:employee_of  \n",
       "32466            최시형           손병희             per:colleagues  \n",
       "32467            완도군           신우철  org:top_members/employees  \n",
       "32468           JTBC         중앙홀딩스                no_relation  \n",
       "32469            화순군           구충곤  org:top_members/employees  \n",
       "\n",
       "[32417 rows x 5 columns]"
      ]
     },
     "execution_count": 3,
     "metadata": {},
     "output_type": "execute_result"
    }
   ],
   "source": [
    "train_dataset = load_data(\"../dataset/train/train.csv\")\n",
    "raw_dataset = pd.read_csv(\"../dataset/train/train.csv\")\n",
    "train_dataset"
   ]
  },
  {
   "cell_type": "code",
   "execution_count": 4,
   "id": "3e0daff7-afa3-405d-a264-ade19aed63c2",
   "metadata": {},
   "outputs": [
    {
     "data": {
      "text/plain": [
       "<bound method DataFrame.info of           id                                           sentence  \\\n",
       "0          0  〈Something〉는 조지 해리슨이 쓰고 비틀즈가 1969년 앨범 《Abbey R...   \n",
       "1          1  호남이 기반인 바른미래당·대안신당·민주평화당이 우여곡절 끝에 합당해 민생당(가칭)으...   \n",
       "2          2  K리그2에서 성적 1위를 달리고 있는 광주FC는 지난 26일 한국프로축구연맹으로부터...   \n",
       "3          3  균일가 생활용품점 (주)아성다이소(대표 박정부)는 코로나19 바이러스로 어려움을 겪...   \n",
       "4          4  1967년 프로 야구 드래프트 1순위로 요미우리 자이언츠에게 입단하면서 등번호는 8...   \n",
       "...      ...                                                ...   \n",
       "32465  32465  한국당은 7일 오전 9시부터 오후 5시까지 진행된 원내대표 및 정책위의장 후보자 등...   \n",
       "32466  32466  법포는 다시 최시형, 서병학, 손병희 직계인 북접과 다시 서장옥, 전봉준, 김개남을...   \n",
       "32467  32467  완도군(군수 신우철)이 국토교통부에서 실시한 '2019 교통문화지수 실태조사'에서 ...   \n",
       "32468  32468  중앙일보, JTBC 회장을 지낸 이후 중앙홀딩스 회장, 재단법인 한반도평화만들기 이...   \n",
       "32469  32469  화순군(군수 구충곤)은 17일 동면의 이장 20여 명이 코로나 19 예방을 위해 버...   \n",
       "\n",
       "      subject_entity object_entity                      label  \n",
       "0                비틀즈        조지 해리슨                no_relation  \n",
       "1              민주평화당          대안신당                no_relation  \n",
       "2               광주FC      한국프로축구연맹              org:member_of  \n",
       "3              아성다이소           박정부  org:top_members/employees  \n",
       "4          요미우리 자이언츠          1967                no_relation  \n",
       "...              ...           ...                        ...  \n",
       "32465            유기준      부산 서구·동구            per:employee_of  \n",
       "32466            최시형           손병희             per:colleagues  \n",
       "32467            완도군           신우철  org:top_members/employees  \n",
       "32468           JTBC         중앙홀딩스                no_relation  \n",
       "32469            화순군           구충곤  org:top_members/employees  \n",
       "\n",
       "[32417 rows x 5 columns]>"
      ]
     },
     "execution_count": 4,
     "metadata": {},
     "output_type": "execute_result"
    }
   ],
   "source": [
    "train_dataset.info"
   ]
  },
  {
   "cell_type": "markdown",
   "id": "79951f77-dd03-42b3-ae73-33166212da68",
   "metadata": {},
   "source": [
    "# 데이터 통계"
   ]
  },
  {
   "cell_type": "code",
   "execution_count": 5,
   "id": "c570dc25-f146-4912-8a90-5f6e020249ea",
   "metadata": {},
   "outputs": [
    {
     "data": {
      "text/html": [
       "<div>\n",
       "<style scoped>\n",
       "    .dataframe tbody tr th:only-of-type {\n",
       "        vertical-align: middle;\n",
       "    }\n",
       "\n",
       "    .dataframe tbody tr th {\n",
       "        vertical-align: top;\n",
       "    }\n",
       "\n",
       "    .dataframe thead th {\n",
       "        text-align: right;\n",
       "    }\n",
       "</style>\n",
       "<table border=\"1\" class=\"dataframe\">\n",
       "  <thead>\n",
       "    <tr style=\"text-align: right;\">\n",
       "      <th></th>\n",
       "      <th>id</th>\n",
       "      <th>sentence</th>\n",
       "      <th>subject_entity</th>\n",
       "      <th>object_entity</th>\n",
       "      <th>label</th>\n",
       "    </tr>\n",
       "  </thead>\n",
       "  <tbody>\n",
       "    <tr>\n",
       "      <th>count</th>\n",
       "      <td>32417.000000</td>\n",
       "      <td>32417</td>\n",
       "      <td>32417</td>\n",
       "      <td>32417</td>\n",
       "      <td>32417</td>\n",
       "    </tr>\n",
       "    <tr>\n",
       "      <th>unique</th>\n",
       "      <td>NaN</td>\n",
       "      <td>28803</td>\n",
       "      <td>12052</td>\n",
       "      <td>10226</td>\n",
       "      <td>30</td>\n",
       "    </tr>\n",
       "    <tr>\n",
       "      <th>top</th>\n",
       "      <td>NaN</td>\n",
       "      <td>오뚜기 함태호 학술상의 시상은 (재)오뚜기함태호재단 함영준 이사장을 대신해 (재)오...</td>\n",
       "      <td>민주당</td>\n",
       "      <td>대한민국</td>\n",
       "      <td>no_relation</td>\n",
       "    </tr>\n",
       "    <tr>\n",
       "      <th>freq</th>\n",
       "      <td>NaN</td>\n",
       "      <td>3</td>\n",
       "      <td>144</td>\n",
       "      <td>276</td>\n",
       "      <td>9513</td>\n",
       "    </tr>\n",
       "    <tr>\n",
       "      <th>mean</th>\n",
       "      <td>16223.682235</td>\n",
       "      <td>NaN</td>\n",
       "      <td>NaN</td>\n",
       "      <td>NaN</td>\n",
       "      <td>NaN</td>\n",
       "    </tr>\n",
       "    <tr>\n",
       "      <th>std</th>\n",
       "      <td>9371.389475</td>\n",
       "      <td>NaN</td>\n",
       "      <td>NaN</td>\n",
       "      <td>NaN</td>\n",
       "      <td>NaN</td>\n",
       "    </tr>\n",
       "    <tr>\n",
       "      <th>min</th>\n",
       "      <td>0.000000</td>\n",
       "      <td>NaN</td>\n",
       "      <td>NaN</td>\n",
       "      <td>NaN</td>\n",
       "      <td>NaN</td>\n",
       "    </tr>\n",
       "    <tr>\n",
       "      <th>25%</th>\n",
       "      <td>8108.000000</td>\n",
       "      <td>NaN</td>\n",
       "      <td>NaN</td>\n",
       "      <td>NaN</td>\n",
       "      <td>NaN</td>\n",
       "    </tr>\n",
       "    <tr>\n",
       "      <th>50%</th>\n",
       "      <td>16220.000000</td>\n",
       "      <td>NaN</td>\n",
       "      <td>NaN</td>\n",
       "      <td>NaN</td>\n",
       "      <td>NaN</td>\n",
       "    </tr>\n",
       "    <tr>\n",
       "      <th>75%</th>\n",
       "      <td>24336.000000</td>\n",
       "      <td>NaN</td>\n",
       "      <td>NaN</td>\n",
       "      <td>NaN</td>\n",
       "      <td>NaN</td>\n",
       "    </tr>\n",
       "    <tr>\n",
       "      <th>max</th>\n",
       "      <td>32469.000000</td>\n",
       "      <td>NaN</td>\n",
       "      <td>NaN</td>\n",
       "      <td>NaN</td>\n",
       "      <td>NaN</td>\n",
       "    </tr>\n",
       "  </tbody>\n",
       "</table>\n",
       "</div>"
      ],
      "text/plain": [
       "                  id                                           sentence  \\\n",
       "count   32417.000000                                              32417   \n",
       "unique           NaN                                              28803   \n",
       "top              NaN  오뚜기 함태호 학술상의 시상은 (재)오뚜기함태호재단 함영준 이사장을 대신해 (재)오...   \n",
       "freq             NaN                                                  3   \n",
       "mean    16223.682235                                                NaN   \n",
       "std      9371.389475                                                NaN   \n",
       "min         0.000000                                                NaN   \n",
       "25%      8108.000000                                                NaN   \n",
       "50%     16220.000000                                                NaN   \n",
       "75%     24336.000000                                                NaN   \n",
       "max     32469.000000                                                NaN   \n",
       "\n",
       "       subject_entity object_entity        label  \n",
       "count           32417         32417        32417  \n",
       "unique          12052         10226           30  \n",
       "top               민주당          대한민국  no_relation  \n",
       "freq              144           276         9513  \n",
       "mean              NaN           NaN          NaN  \n",
       "std               NaN           NaN          NaN  \n",
       "min               NaN           NaN          NaN  \n",
       "25%               NaN           NaN          NaN  \n",
       "50%               NaN           NaN          NaN  \n",
       "75%               NaN           NaN          NaN  \n",
       "max               NaN           NaN          NaN  "
      ]
     },
     "execution_count": 5,
     "metadata": {},
     "output_type": "execute_result"
    }
   ],
   "source": [
    "train_dataset.describe(include='all')"
   ]
  },
  {
   "cell_type": "markdown",
   "id": "33494162-7972-4ee0-9c65-77a33261745d",
   "metadata": {},
   "source": [
    "# 데이터 중복 제거"
   ]
  },
  {
   "cell_type": "code",
   "execution_count": 6,
   "id": "30a6d556-9e4c-4d19-af80-3a5cfe6db2fe",
   "metadata": {},
   "outputs": [
    {
     "name": "stdout",
     "output_type": "stream",
     "text": [
      "32417\n",
      "32417\n"
     ]
    }
   ],
   "source": [
    "print(len(train_dataset))\n",
    "train_dataset.drop_duplicates(subset=['sentence','subject_entity','object_entity'], inplace= True)\n",
    "print(len(train_dataset))"
   ]
  },
  {
   "cell_type": "markdown",
   "id": "de2eee69-64d1-4ec9-949b-af3258e33e94",
   "metadata": {},
   "source": [
    "# 데이터 통계"
   ]
  },
  {
   "cell_type": "code",
   "execution_count": 7,
   "id": "8ad1a56b-e97c-4abd-809c-3cba078da3aa",
   "metadata": {},
   "outputs": [
    {
     "name": "stdout",
     "output_type": "stream",
     "text": [
      "민주당         144\n",
      "화순군         107\n",
      "고흥군          99\n",
      "광주광역시        92\n",
      "더불어민주당       89\n",
      "           ... \n",
      "방콕 항공         1\n",
      "팀 다이나믹스       1\n",
      "조지메이슨대학교      1\n",
      "존 아담스         1\n",
      "도쿄 지하철        1\n",
      "Name: subject_entity, Length: 12052, dtype: int64\n"
     ]
    },
    {
     "data": {
      "image/png": "[encoded data removed]",
      "text/plain": [
       "<Figure size 504x504 with 1 Axes>"
      ]
     },
     "metadata": {
      "needs_background": "light"
     },
     "output_type": "display_data"
    }
   ],
   "source": [
    "print(train_dataset['subject_entity'].value_counts())\n",
    "\n",
    "fig, axes = plt.subplots(1, 1, figsize=(7, 7))\n",
    "\n",
    "subject_entity_cnt_list = train_dataset['subject_entity'].value_counts().values\n",
    "\n",
    "axes.set_ylim(0,150)\n",
    "axes.bar(range(len(subject_entity_cnt_list)),subject_entity_cnt_list, color='royalblue')\n",
    "\n",
    "plt.show()"
   ]
  },
  {
   "cell_type": "code",
   "execution_count": 8,
   "id": "01d28ea4-10b6-404c-beb2-dc48238ea777",
   "metadata": {},
   "outputs": [
    {
     "name": "stdout",
     "output_type": "stream",
     "text": [
      "대한민국                 276\n",
      "자유한국당                268\n",
      "더불어민주당               234\n",
      "문재인                  132\n",
      "UEFA                 116\n",
      "                    ... \n",
      "Gerard Arthur Way      1\n",
      "사랑의교회                  1\n",
      "바드르 조직                 1\n",
      "1453년                  1\n",
      "조선민주당                  1\n",
      "Name: object_entity, Length: 10226, dtype: int64\n"
     ]
    },
    {
     "data": {
      "image/png": "[encoded data removed]",
      "text/plain": [
       "<Figure size 504x504 with 1 Axes>"
      ]
     },
     "metadata": {
      "needs_background": "light"
     },
     "output_type": "display_data"
    }
   ],
   "source": [
    "print(train_dataset['object_entity'].value_counts())\n",
    "\n",
    "fig, axes = plt.subplots(1, 1, figsize=(7, 7))\n",
    "\n",
    "object_entity_cnt_list = train_dataset['object_entity'].value_counts().values\n",
    "\n",
    "axes.set_ylim(0,150)\n",
    "axes.bar(range(len(object_entity_cnt_list)),object_entity_cnt_list, color='tomato')\n",
    "\n",
    "plt.show()"
   ]
  },
  {
   "cell_type": "code",
   "execution_count": 9,
   "id": "22d66c0c-6099-4c20-9cef-af068887180d",
   "metadata": {},
   "outputs": [
    {
     "name": "stdout",
     "output_type": "stream",
     "text": [
      "no_relation                            9513\n",
      "org:top_members/employees              4277\n",
      "per:employee_of                        3565\n",
      "per:title                              2098\n",
      "org:member_of                          1864\n",
      "org:alternate_names                    1318\n",
      "per:origin                             1234\n",
      "org:place_of_headquarters              1194\n",
      "per:date_of_birth                      1130\n",
      "per:alternate_names                     997\n",
      "per:spouse                              795\n",
      "per:colleagues                          534\n",
      "per:parents                             518\n",
      "org:founded                             450\n",
      "org:members                             420\n",
      "per:date_of_death                       417\n",
      "org:product                             380\n",
      "per:children                            304\n",
      "per:place_of_residence                  193\n",
      "per:other_family                        190\n",
      "per:place_of_birth                      166\n",
      "org:founded_by                          155\n",
      "per:product                             139\n",
      "per:siblings                            136\n",
      "org:political/religious_affiliation      98\n",
      "per:religion                             96\n",
      "per:schools_attended                     82\n",
      "org:dissolved                            66\n",
      "org:number_of_employees/members          48\n",
      "per:place_of_death                       40\n",
      "Name: label, dtype: int64\n"
     ]
    },
    {
     "name": "stderr",
     "output_type": "stream",
     "text": [
      "<ipython-input-9-c4b2ff813088>:6: UserWarning: FixedFormatter should only be used together with FixedLocator\n",
      "  ax.set_xticklabels(label_cnt.index,rotation=275)\n"
     ]
    },
    {
     "data": {
      "image/png": "[encoded data removed]",
      "text/plain": [
       "<Figure size 1008x504 with 1 Axes>"
      ]
     },
     "metadata": {
      "needs_background": "light"
     },
     "output_type": "display_data"
    }
   ],
   "source": [
    "print(train_dataset['label'].value_counts())\n",
    "\n",
    "fig, ax = plt.subplots(1, 1, figsize=(14, 7))\n",
    "label_cnt = train_dataset['label'].value_counts()\n",
    "ax.bar(label_cnt.index,label_cnt)\n",
    "ax.set_xticklabels(label_cnt.index,rotation=275)\n",
    "plt.show()"
   ]
  },
  {
   "cell_type": "code",
   "execution_count": 10,
   "id": "2d9a70d9-d475-4020-b845-552cdec4a958",
   "metadata": {},
   "outputs": [
    {
     "name": "stdout",
     "output_type": "stream",
     "text": [
      "wikipedia          21620\n",
      "wikitree           10672\n",
      "policy_briefing      178\n",
      "Name: source, dtype: int64\n"
     ]
    },
    {
     "data": {
      "image/png": "[encoded data removed]",
      "text/plain": [
       "<Figure size 504x504 with 1 Axes>"
      ]
     },
     "metadata": {
      "needs_background": "light"
     },
     "output_type": "display_data"
    }
   ],
   "source": [
    "print(raw_dataset['source'].value_counts())\n",
    "\n",
    "fig, ax = plt.subplots(1, 1, figsize=(7, 7))\n",
    "source_cnt = raw_dataset['source'].value_counts().sort_index()\n",
    "ax.set_title('data Source')\n",
    "ax.bar(source_cnt.index,source_cnt, width=0.5)\n",
    "\n",
    "plt.show()"
   ]
  },
  {
   "cell_type": "code",
   "execution_count": 11,
   "id": "57a2ca54-e8e1-42b1-8802-15f5472de54c",
   "metadata": {},
   "outputs": [
    {
     "data": {
      "text/plain": [
       "subject_entity  object_entity\n",
       "(유)시민버스         시내버스협의회            1\n",
       "스벤 크라머르         네덜란드               1\n",
       "카도야 츠카사         디케이드               1\n",
       "                가면라이더              1\n",
       "스와로브스키          오스트리아              1\n",
       "                                ... \n",
       "목포시             김종식               74\n",
       "영암군             전동평               75\n",
       "광주광역시           이용섭               85\n",
       "고흥군             송귀근               95\n",
       "화순군             구충곤              101\n",
       "Name: object_entity, Length: 17727, dtype: int64"
      ]
     },
     "metadata": {},
     "output_type": "display_data"
    }
   ],
   "source": [
    "group = train_dataset.groupby('subject_entity')['object_entity'].value_counts().sort_values()\n",
    "display(group)"
   ]
  },
  {
   "cell_type": "markdown",
   "id": "52641ffa-f8c7-4ff9-a0ae-bd36d81e0846",
   "metadata": {},
   "source": [
    "# 라벨 종류"
   ]
  },
  {
   "cell_type": "code",
   "execution_count": 12,
   "id": "05351511-7441-41ff-826f-9ccba404f03d",
   "metadata": {},
   "outputs": [
    {
     "data": {
      "text/html": [
       "<div>\n",
       "<style scoped>\n",
       "    .dataframe tbody tr th:only-of-type {\n",
       "        vertical-align: middle;\n",
       "    }\n",
       "\n",
       "    .dataframe tbody tr th {\n",
       "        vertical-align: top;\n",
       "    }\n",
       "\n",
       "    .dataframe thead th {\n",
       "        text-align: right;\n",
       "    }\n",
       "</style>\n",
       "<table border=\"1\" class=\"dataframe\">\n",
       "  <thead>\n",
       "    <tr style=\"text-align: right;\">\n",
       "      <th></th>\n",
       "      <th>number</th>\n",
       "      <th>label</th>\n",
       "    </tr>\n",
       "  </thead>\n",
       "  <tbody>\n",
       "    <tr>\n",
       "      <th>0</th>\n",
       "      <td>0</td>\n",
       "      <td>no_relation</td>\n",
       "    </tr>\n",
       "    <tr>\n",
       "      <th>1</th>\n",
       "      <td>1</td>\n",
       "      <td>org:top_members/employees</td>\n",
       "    </tr>\n",
       "    <tr>\n",
       "      <th>2</th>\n",
       "      <td>2</td>\n",
       "      <td>org:members</td>\n",
       "    </tr>\n",
       "    <tr>\n",
       "      <th>3</th>\n",
       "      <td>3</td>\n",
       "      <td>org:product</td>\n",
       "    </tr>\n",
       "    <tr>\n",
       "      <th>4</th>\n",
       "      <td>4</td>\n",
       "      <td>per:title</td>\n",
       "    </tr>\n",
       "    <tr>\n",
       "      <th>5</th>\n",
       "      <td>5</td>\n",
       "      <td>org:alternate_names</td>\n",
       "    </tr>\n",
       "    <tr>\n",
       "      <th>6</th>\n",
       "      <td>6</td>\n",
       "      <td>per:employee_of</td>\n",
       "    </tr>\n",
       "    <tr>\n",
       "      <th>7</th>\n",
       "      <td>7</td>\n",
       "      <td>org:place_of_headquarters</td>\n",
       "    </tr>\n",
       "    <tr>\n",
       "      <th>8</th>\n",
       "      <td>8</td>\n",
       "      <td>per:product</td>\n",
       "    </tr>\n",
       "    <tr>\n",
       "      <th>9</th>\n",
       "      <td>9</td>\n",
       "      <td>org:number_of_employees/members</td>\n",
       "    </tr>\n",
       "    <tr>\n",
       "      <th>10</th>\n",
       "      <td>10</td>\n",
       "      <td>per:children</td>\n",
       "    </tr>\n",
       "    <tr>\n",
       "      <th>11</th>\n",
       "      <td>11</td>\n",
       "      <td>per:place_of_residence</td>\n",
       "    </tr>\n",
       "    <tr>\n",
       "      <th>12</th>\n",
       "      <td>12</td>\n",
       "      <td>per:alternate_names</td>\n",
       "    </tr>\n",
       "    <tr>\n",
       "      <th>13</th>\n",
       "      <td>13</td>\n",
       "      <td>per:other_family</td>\n",
       "    </tr>\n",
       "    <tr>\n",
       "      <th>14</th>\n",
       "      <td>14</td>\n",
       "      <td>per:colleagues</td>\n",
       "    </tr>\n",
       "    <tr>\n",
       "      <th>15</th>\n",
       "      <td>15</td>\n",
       "      <td>per:origin</td>\n",
       "    </tr>\n",
       "    <tr>\n",
       "      <th>16</th>\n",
       "      <td>16</td>\n",
       "      <td>per:siblings</td>\n",
       "    </tr>\n",
       "    <tr>\n",
       "      <th>17</th>\n",
       "      <td>17</td>\n",
       "      <td>per:spouse</td>\n",
       "    </tr>\n",
       "    <tr>\n",
       "      <th>18</th>\n",
       "      <td>18</td>\n",
       "      <td>org:founded</td>\n",
       "    </tr>\n",
       "    <tr>\n",
       "      <th>19</th>\n",
       "      <td>19</td>\n",
       "      <td>org:political/religious_affiliation</td>\n",
       "    </tr>\n",
       "    <tr>\n",
       "      <th>20</th>\n",
       "      <td>20</td>\n",
       "      <td>org:member_of</td>\n",
       "    </tr>\n",
       "    <tr>\n",
       "      <th>21</th>\n",
       "      <td>21</td>\n",
       "      <td>per:parents</td>\n",
       "    </tr>\n",
       "    <tr>\n",
       "      <th>22</th>\n",
       "      <td>22</td>\n",
       "      <td>org:dissolved</td>\n",
       "    </tr>\n",
       "    <tr>\n",
       "      <th>23</th>\n",
       "      <td>23</td>\n",
       "      <td>per:schools_attended</td>\n",
       "    </tr>\n",
       "    <tr>\n",
       "      <th>24</th>\n",
       "      <td>24</td>\n",
       "      <td>per:date_of_death</td>\n",
       "    </tr>\n",
       "    <tr>\n",
       "      <th>25</th>\n",
       "      <td>25</td>\n",
       "      <td>per:date_of_birth</td>\n",
       "    </tr>\n",
       "    <tr>\n",
       "      <th>26</th>\n",
       "      <td>26</td>\n",
       "      <td>per:place_of_birth</td>\n",
       "    </tr>\n",
       "    <tr>\n",
       "      <th>27</th>\n",
       "      <td>27</td>\n",
       "      <td>per:place_of_death</td>\n",
       "    </tr>\n",
       "    <tr>\n",
       "      <th>28</th>\n",
       "      <td>28</td>\n",
       "      <td>org:founded_by</td>\n",
       "    </tr>\n",
       "    <tr>\n",
       "      <th>29</th>\n",
       "      <td>29</td>\n",
       "      <td>per:religion</td>\n",
       "    </tr>\n",
       "  </tbody>\n",
       "</table>\n",
       "</div>"
      ],
      "text/plain": [
       "    number                                label\n",
       "0        0                          no_relation\n",
       "1        1            org:top_members/employees\n",
       "2        2                          org:members\n",
       "3        3                          org:product\n",
       "4        4                            per:title\n",
       "5        5                  org:alternate_names\n",
       "6        6                      per:employee_of\n",
       "7        7            org:place_of_headquarters\n",
       "8        8                          per:product\n",
       "9        9      org:number_of_employees/members\n",
       "10      10                         per:children\n",
       "11      11               per:place_of_residence\n",
       "12      12                  per:alternate_names\n",
       "13      13                     per:other_family\n",
       "14      14                       per:colleagues\n",
       "15      15                           per:origin\n",
       "16      16                         per:siblings\n",
       "17      17                           per:spouse\n",
       "18      18                          org:founded\n",
       "19      19  org:political/religious_affiliation\n",
       "20      20                        org:member_of\n",
       "21      21                          per:parents\n",
       "22      22                        org:dissolved\n",
       "23      23                 per:schools_attended\n",
       "24      24                    per:date_of_death\n",
       "25      25                    per:date_of_birth\n",
       "26      26                   per:place_of_birth\n",
       "27      27                   per:place_of_death\n",
       "28      28                       org:founded_by\n",
       "29      29                         per:religion"
      ]
     },
     "execution_count": 12,
     "metadata": {},
     "output_type": "execute_result"
    }
   ],
   "source": [
    "num_to_label = {}\n",
    "for label in train_dataset['label'].unique():\n",
    "    num_to_label[label_to_num([label])[0]] = label\n",
    "    \n",
    "numbers=[]\n",
    "labels=[]\n",
    "for num, label in sorted(num_to_label.items(), key=lambda x:x[0]):\n",
    "    numbers.append(num)\n",
    "    labels.append(label)\n",
    "    #print('{0:2d}'.format(num), '=' , label)\n",
    "    \n",
    "pd.DataFrame({'number': numbers, 'label': labels})"
   ]
  },
  {
   "cell_type": "markdown",
   "id": "ac792e12-0a4f-490b-a1fa-bc3018170dc7",
   "metadata": {},
   "source": [
    "# 문장의 길이"
   ]
  },
  {
   "cell_type": "code",
   "execution_count": 13,
   "id": "ce8ce1e4-17ea-483a-b506-d77da64f0447",
   "metadata": {},
   "outputs": [
    {
     "name": "stdout",
     "output_type": "stream",
     "text": [
      "sentence 문장 최대 길이 : 455\n",
      "sentence 문장의 평균 길이 : 97.07607119721133\n"
     ]
    },
    {
     "data": {
      "image/png": "[encoded data removed]",
      "text/plain": [
       "<Figure size 432x288 with 1 Axes>"
      ]
     },
     "metadata": {
      "needs_background": "light"
     },
     "output_type": "display_data"
    }
   ],
   "source": [
    "print('sentence 문장 최대 길이 :',max(len(l) for l in train_dataset['sentence']))\n",
    "print('sentence 문장의 평균 길이 :',sum(map(len, train_dataset['sentence']))/len(train_dataset['sentence']))\n",
    "\n",
    "plt.hist([len(s) for s in train_dataset['sentence']], bins=50)\n",
    "plt.xlabel('length of data')\n",
    "plt.ylabel('number of data')\n",
    "plt.show()"
   ]
  },
  {
   "cell_type": "code",
   "execution_count": 14,
   "id": "68841efc-9059-408d-b30d-a91fc7c76b02",
   "metadata": {},
   "outputs": [
    {
     "name": "stdout",
     "output_type": "stream",
     "text": [
      "subject_entity 최대 길이 : 44\n",
      "subject_entity 평균 길이 : 5.1175309251318755\n"
     ]
    },
    {
     "data": {
      "image/png": "[encoded data removed]",
      "text/plain": [
       "<Figure size 432x288 with 1 Axes>"
      ]
     },
     "metadata": {
      "needs_background": "light"
     },
     "output_type": "display_data"
    }
   ],
   "source": [
    "print('subject_entity 최대 길이 :',max(len(l) for l in train_dataset['subject_entity']))\n",
    "print('subject_entity 평균 길이 :',sum(map(len, train_dataset['subject_entity']))/len(train_dataset['subject_entity']))\n",
    "\n",
    "plt.hist([len(s) for s in train_dataset['subject_entity']], bins=50)\n",
    "plt.xlabel('length of data')\n",
    "plt.ylabel('number of data')\n",
    "plt.show()"
   ]
  },
  {
   "cell_type": "code",
   "execution_count": 15,
   "id": "cd72a174-ea9a-4466-8746-c867ef6c1518",
   "metadata": {},
   "outputs": [
    {
     "name": "stdout",
     "output_type": "stream",
     "text": [
      "object_entity 최대 길이 : 49\n",
      "object_entity 평균 길이 : 5.17277971434741\n"
     ]
    },
    {
     "data": {
      "image/png": "[encoded data removed]",
      "text/plain": [
       "<Figure size 432x288 with 1 Axes>"
      ]
     },
     "metadata": {
      "needs_background": "light"
     },
     "output_type": "display_data"
    }
   ],
   "source": [
    "print('object_entity 최대 길이 :',max(len(l) for l in train_dataset['object_entity']))\n",
    "print('object_entity 평균 길이 :',sum(map(len, train_dataset['object_entity']))/len(train_dataset['object_entity']))\n",
    "\n",
    "plt.hist([len(s) for s in train_dataset['object_entity']], bins=50)\n",
    "plt.xlabel('length of data')\n",
    "plt.ylabel('number of data')\n",
    "plt.show()"
   ]
  },
  {
   "cell_type": "markdown",
   "id": "caa8e3c7-8293-47da-85f1-eab66439b2ff",
   "metadata": {},
   "source": [
    "# 토큰화 과정 뜯어보기"
   ]
  },
  {
   "cell_type": "code",
   "execution_count": 16,
   "id": "007c9651-aeec-4971-9272-add3ef3c6757",
   "metadata": {},
   "outputs": [],
   "source": [
    "from transformers import AutoTokenizer\n",
    "\n",
    "MODEL_NAME = \"klue/bert-base\"\n",
    "tokenizer = AutoTokenizer.from_pretrained(MODEL_NAME)\n",
    "\n",
    "tokenized_train = tokenized_dataset(train_dataset, tokenizer)"
   ]
  },
  {
   "cell_type": "code",
   "execution_count": 17,
   "id": "dc3fcc2b-baf0-4de5-9be8-4bceb98617ba",
   "metadata": {},
   "outputs": [
    {
     "name": "stdout",
     "output_type": "stream",
     "text": [
      "input_ids :\n",
      "[[    2 29830     3 ...     0     0     0]\n",
      " [    2  3772  2139 ...     0     0     0]\n",
      " [    2  4104 10904 ...     0     0     0]\n",
      " ...\n",
      " [    2 18272  2242 ...     0     0     0]\n",
      " [    2 15710     3 ...     0     0     0]\n",
      " [    2 15437  2242 ...     0     0     0]] \n",
      "\n",
      "token_type_ids :\n",
      "[[0 0 0 ... 0 0 0]\n",
      " [0 0 0 ... 0 0 0]\n",
      " [0 0 0 ... 0 0 0]\n",
      " ...\n",
      " [0 0 0 ... 0 0 0]\n",
      " [0 0 0 ... 0 0 0]\n",
      " [0 0 0 ... 0 0 0]] \n",
      "\n",
      "attention_mask :\n",
      "[[1 1 1 ... 0 0 0]\n",
      " [1 1 1 ... 0 0 0]\n",
      " [1 1 1 ... 0 0 0]\n",
      " ...\n",
      " [1 1 1 ... 0 0 0]\n",
      " [1 1 1 ... 0 0 0]\n",
      " [1 1 1 ... 0 0 0]] \n",
      "\n"
     ]
    }
   ],
   "source": [
    "for key, value in tokenized_train.items():\n",
    "    print(key, ':')\n",
    "    print(np.array(value),'\\n')"
   ]
  },
  {
   "cell_type": "code",
   "execution_count": 18,
   "id": "6b7e58ae-1b59-4b44-b747-4bd649da46e3",
   "metadata": {},
   "outputs": [
    {
     "data": {
      "text/plain": [
       "'[CLS]비틀즈[SEP]조지해리##슨[SEP]〈So##me##th##ing〉는조지해리##슨##이쓰##고비틀즈##가1969##년앨범《Ab##be##yRo##ad》에담##은노래##다.[SEP][PAD][PAD][PAD][PAD][PAD][PAD][PAD][PAD][PAD][PAD][PAD][PAD][PAD][PAD][PAD][PAD][PAD][PAD][PAD][PAD][PAD][PAD][PAD][PAD][PAD][PAD][PAD][PAD][PAD][PAD][PAD][PAD][PAD][PAD][PAD][PAD][PAD][PAD][PAD][PAD][PAD][PAD][PAD][PAD][PAD][PAD][PAD][PAD][PAD][PAD][PAD][PAD][PAD][PAD][PAD][PAD][PAD][PAD][PAD][PAD][PAD][PAD][PAD][PAD][PAD][PAD][PAD][PAD][PAD][PAD][PAD][PAD][PAD][PAD][PAD][PAD][PAD][PAD][PAD][PAD][PAD][PAD][PAD][PAD][PAD][PAD][PAD][PAD][PAD][PAD][PAD][PAD][PAD][PAD][PAD][PAD][PAD][PAD][PAD][PAD][PAD][PAD][PAD][PAD][PAD][PAD][PAD][PAD][PAD][PAD][PAD][PAD][PAD][PAD][PAD][PAD][PAD][PAD][PAD][PAD][PAD][PAD][PAD][PAD][PAD][PAD][PAD][PAD][PAD][PAD][PAD][PAD][PAD][PAD][PAD][PAD][PAD][PAD][PAD][PAD][PAD][PAD][PAD][PAD][PAD][PAD][PAD][PAD][PAD][PAD][PAD][PAD][PAD][PAD][PAD][PAD][PAD][PAD][PAD][PAD][PAD][PAD][PAD][PAD][PAD][PAD][PAD][PAD][PAD][PAD][PAD][PAD][PAD][PAD][PAD][PAD][PAD][PAD][PAD][PAD][PAD][PAD][PAD][PAD][PAD][PAD][PAD][PAD][PAD][PAD][PAD][PAD][PAD][PAD][PAD][PAD][PAD][PAD]'"
      ]
     },
     "execution_count": 18,
     "metadata": {},
     "output_type": "execute_result"
    }
   ],
   "source": [
    "example_input_token = ''\n",
    "for x in tokenizer.convert_ids_to_tokens(tokenized_train['input_ids'][0]):\n",
    "    example_input_token += x\n",
    "\n",
    "example_input_token"
   ]
  },
  {
   "cell_type": "code",
   "execution_count": 19,
   "id": "d0c80132-7b0e-47e7-b532-a02f7452e1ae",
   "metadata": {},
   "outputs": [
    {
     "data": {
      "text/plain": [
       "array(['[CLS]', '비틀즈', '[SEP]', '조지', '해리', '##슨', '[SEP]', '〈', 'So',\n",
       "       '##me', '##th', '##ing', '〉', '는', '조지', '해리', '##슨', '##이', '쓰',\n",
       "       '##고', '비틀즈', '##가', '1969', '##년', '앨범', '《', 'Ab', '##be', '##y',\n",
       "       'Ro', '##ad', '》', '에', '담', '##은', '노래', '##다', '.', '[SEP]',\n",
       "       '[PAD]', '[PAD]', '[PAD]', '[PAD]', '[PAD]', '[PAD]', '[PAD]',\n",
       "       '[PAD]', '[PAD]', '[PAD]', '[PAD]', '[PAD]', '[PAD]', '[PAD]',\n",
       "       '[PAD]', '[PAD]', '[PAD]', '[PAD]', '[PAD]', '[PAD]', '[PAD]',\n",
       "       '[PAD]', '[PAD]', '[PAD]', '[PAD]', '[PAD]', '[PAD]', '[PAD]',\n",
       "       '[PAD]', '[PAD]', '[PAD]', '[PAD]', '[PAD]', '[PAD]', '[PAD]',\n",
       "       '[PAD]', '[PAD]', '[PAD]', '[PAD]', '[PAD]', '[PAD]', '[PAD]',\n",
       "       '[PAD]', '[PAD]', '[PAD]', '[PAD]', '[PAD]', '[PAD]', '[PAD]',\n",
       "       '[PAD]', '[PAD]', '[PAD]', '[PAD]', '[PAD]', '[PAD]', '[PAD]',\n",
       "       '[PAD]', '[PAD]', '[PAD]', '[PAD]', '[PAD]', '[PAD]', '[PAD]',\n",
       "       '[PAD]', '[PAD]', '[PAD]', '[PAD]', '[PAD]', '[PAD]', '[PAD]',\n",
       "       '[PAD]', '[PAD]', '[PAD]', '[PAD]', '[PAD]', '[PAD]', '[PAD]',\n",
       "       '[PAD]', '[PAD]', '[PAD]', '[PAD]', '[PAD]', '[PAD]', '[PAD]',\n",
       "       '[PAD]', '[PAD]', '[PAD]', '[PAD]', '[PAD]', '[PAD]', '[PAD]',\n",
       "       '[PAD]', '[PAD]', '[PAD]', '[PAD]', '[PAD]', '[PAD]', '[PAD]',\n",
       "       '[PAD]', '[PAD]', '[PAD]', '[PAD]', '[PAD]', '[PAD]', '[PAD]',\n",
       "       '[PAD]', '[PAD]', '[PAD]', '[PAD]', '[PAD]', '[PAD]', '[PAD]',\n",
       "       '[PAD]', '[PAD]', '[PAD]', '[PAD]', '[PAD]', '[PAD]', '[PAD]',\n",
       "       '[PAD]', '[PAD]', '[PAD]', '[PAD]', '[PAD]', '[PAD]', '[PAD]',\n",
       "       '[PAD]', '[PAD]', '[PAD]', '[PAD]', '[PAD]', '[PAD]', '[PAD]',\n",
       "       '[PAD]', '[PAD]', '[PAD]', '[PAD]', '[PAD]', '[PAD]', '[PAD]',\n",
       "       '[PAD]', '[PAD]', '[PAD]', '[PAD]', '[PAD]', '[PAD]', '[PAD]',\n",
       "       '[PAD]', '[PAD]', '[PAD]', '[PAD]', '[PAD]', '[PAD]', '[PAD]',\n",
       "       '[PAD]', '[PAD]', '[PAD]', '[PAD]', '[PAD]', '[PAD]', '[PAD]',\n",
       "       '[PAD]', '[PAD]', '[PAD]', '[PAD]', '[PAD]', '[PAD]', '[PAD]',\n",
       "       '[PAD]', '[PAD]', '[PAD]', '[PAD]', '[PAD]', '[PAD]', '[PAD]',\n",
       "       '[PAD]', '[PAD]', '[PAD]', '[PAD]', '[PAD]', '[PAD]', '[PAD]',\n",
       "       '[PAD]', '[PAD]', '[PAD]', '[PAD]', '[PAD]', '[PAD]', '[PAD]',\n",
       "       '[PAD]', '[PAD]', '[PAD]', '[PAD]', '[PAD]', '[PAD]', '[PAD]',\n",
       "       '[PAD]', '[PAD]'], dtype='<U5')"
      ]
     },
     "execution_count": 19,
     "metadata": {},
     "output_type": "execute_result"
    }
   ],
   "source": [
    "np.array(tokenizer.convert_ids_to_tokens(tokenized_train['input_ids'][0]))"
   ]
  },
  {
   "cell_type": "code",
   "execution_count": 20,
   "id": "1d48b7d7-85a4-471e-ad5c-3c1c2ddfadaa",
   "metadata": {},
   "outputs": [
    {
     "data": {
      "text/plain": [
       "tensor([    2, 29830,     3,  8373, 14113,  2234,     3,   168, 30985, 14451,\n",
       "         7088,  4586,   169,   793,  8373, 14113,  2234,  2052,  1363,  2088,\n",
       "        29830,  2116, 14879,  2440,  6711,   170, 21406, 26713,  2076, 25145,\n",
       "         5749,   171,  1421,   818,  2073,  4388,  2062,    18,     3,     0,\n",
       "            0,     0,     0,     0,     0,     0,     0,     0,     0,     0,\n",
       "            0,     0,     0,     0,     0,     0,     0,     0,     0,     0,\n",
       "            0,     0,     0,     0,     0,     0,     0,     0,     0,     0,\n",
       "            0,     0,     0,     0,     0,     0,     0,     0,     0,     0,\n",
       "            0,     0,     0,     0,     0,     0,     0,     0,     0,     0,\n",
       "            0,     0,     0,     0,     0,     0,     0,     0,     0,     0,\n",
       "            0,     0,     0,     0,     0,     0,     0,     0,     0,     0,\n",
       "            0,     0,     0,     0,     0,     0,     0,     0,     0,     0,\n",
       "            0,     0,     0,     0,     0,     0,     0,     0,     0,     0,\n",
       "            0,     0,     0,     0,     0,     0,     0,     0,     0,     0,\n",
       "            0,     0,     0,     0,     0,     0,     0,     0,     0,     0,\n",
       "            0,     0,     0,     0,     0,     0,     0,     0,     0,     0,\n",
       "            0,     0,     0,     0,     0,     0,     0,     0,     0,     0,\n",
       "            0,     0,     0,     0,     0,     0,     0,     0,     0,     0,\n",
       "            0,     0,     0,     0,     0,     0,     0,     0,     0,     0,\n",
       "            0,     0,     0,     0,     0,     0,     0,     0,     0,     0,\n",
       "            0,     0,     0,     0,     0,     0,     0,     0,     0,     0,\n",
       "            0,     0,     0,     0,     0,     0,     0,     0,     0,     0,\n",
       "            0,     0,     0,     0,     0,     0,     0,     0,     0,     0,\n",
       "            0,     0,     0,     0,     0,     0,     0])"
      ]
     },
     "execution_count": 20,
     "metadata": {},
     "output_type": "execute_result"
    }
   ],
   "source": [
    "tokenized_train['input_ids'][0]"
   ]
  },
  {
   "cell_type": "code",
   "execution_count": 21,
   "id": "b020c8ef-6804-4cba-9ad5-7e2908649a93",
   "metadata": {},
   "outputs": [
    {
     "data": {
      "text/plain": [
       "tensor([0, 0, 0, 0, 0, 0, 0, 1, 1, 1, 1, 1, 1, 1, 1, 1, 1, 1, 1, 1, 1, 1, 1, 1,\n",
       "        1, 1, 1, 1, 1, 1, 1, 1, 1, 1, 1, 1, 1, 1, 1, 0, 0, 0, 0, 0, 0, 0, 0, 0,\n",
       "        0, 0, 0, 0, 0, 0, 0, 0, 0, 0, 0, 0, 0, 0, 0, 0, 0, 0, 0, 0, 0, 0, 0, 0,\n",
       "        0, 0, 0, 0, 0, 0, 0, 0, 0, 0, 0, 0, 0, 0, 0, 0, 0, 0, 0, 0, 0, 0, 0, 0,\n",
       "        0, 0, 0, 0, 0, 0, 0, 0, 0, 0, 0, 0, 0, 0, 0, 0, 0, 0, 0, 0, 0, 0, 0, 0,\n",
       "        0, 0, 0, 0, 0, 0, 0, 0, 0, 0, 0, 0, 0, 0, 0, 0, 0, 0, 0, 0, 0, 0, 0, 0,\n",
       "        0, 0, 0, 0, 0, 0, 0, 0, 0, 0, 0, 0, 0, 0, 0, 0, 0, 0, 0, 0, 0, 0, 0, 0,\n",
       "        0, 0, 0, 0, 0, 0, 0, 0, 0, 0, 0, 0, 0, 0, 0, 0, 0, 0, 0, 0, 0, 0, 0, 0,\n",
       "        0, 0, 0, 0, 0, 0, 0, 0, 0, 0, 0, 0, 0, 0, 0, 0, 0, 0, 0, 0, 0, 0, 0, 0,\n",
       "        0, 0, 0, 0, 0, 0, 0, 0, 0, 0, 0, 0, 0, 0, 0, 0, 0, 0, 0, 0, 0])"
      ]
     },
     "execution_count": 21,
     "metadata": {},
     "output_type": "execute_result"
    }
   ],
   "source": [
    "tokenized_train['token_type_ids'][0]"
   ]
  },
  {
   "cell_type": "code",
   "execution_count": 22,
   "id": "97d4564a-2190-4bc6-b952-bb30a26eb7ab",
   "metadata": {},
   "outputs": [
    {
     "data": {
      "text/plain": [
       "tensor([1, 1, 1, 1, 1, 1, 1, 1, 1, 1, 1, 1, 1, 1, 1, 1, 1, 1, 1, 1, 1, 1, 1, 1,\n",
       "        1, 1, 1, 1, 1, 1, 1, 1, 1, 1, 1, 1, 1, 1, 1, 0, 0, 0, 0, 0, 0, 0, 0, 0,\n",
       "        0, 0, 0, 0, 0, 0, 0, 0, 0, 0, 0, 0, 0, 0, 0, 0, 0, 0, 0, 0, 0, 0, 0, 0,\n",
       "        0, 0, 0, 0, 0, 0, 0, 0, 0, 0, 0, 0, 0, 0, 0, 0, 0, 0, 0, 0, 0, 0, 0, 0,\n",
       "        0, 0, 0, 0, 0, 0, 0, 0, 0, 0, 0, 0, 0, 0, 0, 0, 0, 0, 0, 0, 0, 0, 0, 0,\n",
       "        0, 0, 0, 0, 0, 0, 0, 0, 0, 0, 0, 0, 0, 0, 0, 0, 0, 0, 0, 0, 0, 0, 0, 0,\n",
       "        0, 0, 0, 0, 0, 0, 0, 0, 0, 0, 0, 0, 0, 0, 0, 0, 0, 0, 0, 0, 0, 0, 0, 0,\n",
       "        0, 0, 0, 0, 0, 0, 0, 0, 0, 0, 0, 0, 0, 0, 0, 0, 0, 0, 0, 0, 0, 0, 0, 0,\n",
       "        0, 0, 0, 0, 0, 0, 0, 0, 0, 0, 0, 0, 0, 0, 0, 0, 0, 0, 0, 0, 0, 0, 0, 0,\n",
       "        0, 0, 0, 0, 0, 0, 0, 0, 0, 0, 0, 0, 0, 0, 0, 0, 0, 0, 0, 0, 0])"
      ]
     },
     "execution_count": 22,
     "metadata": {},
     "output_type": "execute_result"
    }
   ],
   "source": [
    "tokenized_train['attention_mask'][0]"
   ]
  },
  {
   "cell_type": "code",
   "execution_count": 23,
   "id": "7780986f-89d4-4ae3-a0a5-21c24f6a4718",
   "metadata": {},
   "outputs": [],
   "source": [
    "train_label = label_to_num(train_dataset['label'].values)"
   ]
  },
  {
   "cell_type": "code",
   "execution_count": 24,
   "id": "5435d046-d8c8-4f61-a046-b28c2378f2e6",
   "metadata": {},
   "outputs": [
    {
     "data": {
      "text/plain": [
       "array([ 0,  0, 20, ...,  1,  0,  1])"
      ]
     },
     "execution_count": 24,
     "metadata": {},
     "output_type": "execute_result"
    }
   ],
   "source": [
    "np.array(train_label)"
   ]
  },
  {
   "cell_type": "code",
   "execution_count": 25,
   "id": "6362690c-cd36-41dc-8dee-a30e38ce0048",
   "metadata": {},
   "outputs": [],
   "source": [
    "RE_train_dataset = RE_Dataset(tokenized_train, train_label)"
   ]
  },
  {
   "cell_type": "code",
   "execution_count": 26,
   "id": "e3eab962-376d-4163-8613-b4510d32e7a8",
   "metadata": {},
   "outputs": [
    {
     "data": {
      "text/plain": [
       "<load_data.RE_Dataset at 0x7fbcd14e8520>"
      ]
     },
     "execution_count": 26,
     "metadata": {},
     "output_type": "execute_result"
    }
   ],
   "source": [
    "RE_train_dataset"
   ]
  },
  {
   "cell_type": "code",
   "execution_count": 27,
   "id": "d1d79209-40bb-4cd3-b772-b8946dabce8b",
   "metadata": {},
   "outputs": [
    {
     "name": "stdout",
     "output_type": "stream",
     "text": [
      "input_ids  : \n",
      "tensor([    2, 29830,     3,  8373, 14113,  2234,     3,   168, 30985, 14451,\n",
      "         7088,  4586,   169,   793,  8373, 14113,  2234,  2052,  1363,  2088,\n",
      "        29830,  2116, 14879,  2440,  6711,   170, 21406, 26713,  2076, 25145,\n",
      "         5749,   171,  1421,   818,  2073,  4388,  2062,    18,     3,     0,\n",
      "            0,     0,     0,     0,     0,     0,     0,     0,     0,     0,\n",
      "            0,     0,     0,     0,     0,     0,     0,     0,     0,     0,\n",
      "            0,     0,     0,     0,     0,     0,     0,     0,     0,     0,\n",
      "            0,     0,     0,     0,     0,     0,     0,     0,     0,     0,\n",
      "            0,     0,     0,     0,     0,     0,     0,     0,     0,     0,\n",
      "            0,     0,     0,     0,     0,     0,     0,     0,     0,     0,\n",
      "            0,     0,     0,     0,     0,     0,     0,     0,     0,     0,\n",
      "            0,     0,     0,     0,     0,     0,     0,     0,     0,     0,\n",
      "            0,     0,     0,     0,     0,     0,     0,     0,     0,     0,\n",
      "            0,     0,     0,     0,     0,     0,     0,     0,     0,     0,\n",
      "            0,     0,     0,     0,     0,     0,     0,     0,     0,     0,\n",
      "            0,     0,     0,     0,     0,     0,     0,     0,     0,     0,\n",
      "            0,     0,     0,     0,     0,     0,     0,     0,     0,     0,\n",
      "            0,     0,     0,     0,     0,     0,     0,     0,     0,     0,\n",
      "            0,     0,     0,     0,     0,     0,     0,     0,     0,     0,\n",
      "            0,     0,     0,     0,     0,     0,     0,     0,     0,     0,\n",
      "            0,     0,     0,     0,     0,     0,     0,     0,     0,     0,\n",
      "            0,     0,     0,     0,     0,     0,     0,     0,     0,     0,\n",
      "            0,     0,     0,     0,     0,     0,     0,     0,     0,     0,\n",
      "            0,     0,     0,     0,     0,     0,     0]) \n",
      "\n",
      "token_type_ids  : \n",
      "tensor([0, 0, 0, 0, 0, 0, 0, 1, 1, 1, 1, 1, 1, 1, 1, 1, 1, 1, 1, 1, 1, 1, 1, 1,\n",
      "        1, 1, 1, 1, 1, 1, 1, 1, 1, 1, 1, 1, 1, 1, 1, 0, 0, 0, 0, 0, 0, 0, 0, 0,\n",
      "        0, 0, 0, 0, 0, 0, 0, 0, 0, 0, 0, 0, 0, 0, 0, 0, 0, 0, 0, 0, 0, 0, 0, 0,\n",
      "        0, 0, 0, 0, 0, 0, 0, 0, 0, 0, 0, 0, 0, 0, 0, 0, 0, 0, 0, 0, 0, 0, 0, 0,\n",
      "        0, 0, 0, 0, 0, 0, 0, 0, 0, 0, 0, 0, 0, 0, 0, 0, 0, 0, 0, 0, 0, 0, 0, 0,\n",
      "        0, 0, 0, 0, 0, 0, 0, 0, 0, 0, 0, 0, 0, 0, 0, 0, 0, 0, 0, 0, 0, 0, 0, 0,\n",
      "        0, 0, 0, 0, 0, 0, 0, 0, 0, 0, 0, 0, 0, 0, 0, 0, 0, 0, 0, 0, 0, 0, 0, 0,\n",
      "        0, 0, 0, 0, 0, 0, 0, 0, 0, 0, 0, 0, 0, 0, 0, 0, 0, 0, 0, 0, 0, 0, 0, 0,\n",
      "        0, 0, 0, 0, 0, 0, 0, 0, 0, 0, 0, 0, 0, 0, 0, 0, 0, 0, 0, 0, 0, 0, 0, 0,\n",
      "        0, 0, 0, 0, 0, 0, 0, 0, 0, 0, 0, 0, 0, 0, 0, 0, 0, 0, 0, 0, 0]) \n",
      "\n",
      "attention_mask  : \n",
      "tensor([1, 1, 1, 1, 1, 1, 1, 1, 1, 1, 1, 1, 1, 1, 1, 1, 1, 1, 1, 1, 1, 1, 1, 1,\n",
      "        1, 1, 1, 1, 1, 1, 1, 1, 1, 1, 1, 1, 1, 1, 1, 0, 0, 0, 0, 0, 0, 0, 0, 0,\n",
      "        0, 0, 0, 0, 0, 0, 0, 0, 0, 0, 0, 0, 0, 0, 0, 0, 0, 0, 0, 0, 0, 0, 0, 0,\n",
      "        0, 0, 0, 0, 0, 0, 0, 0, 0, 0, 0, 0, 0, 0, 0, 0, 0, 0, 0, 0, 0, 0, 0, 0,\n",
      "        0, 0, 0, 0, 0, 0, 0, 0, 0, 0, 0, 0, 0, 0, 0, 0, 0, 0, 0, 0, 0, 0, 0, 0,\n",
      "        0, 0, 0, 0, 0, 0, 0, 0, 0, 0, 0, 0, 0, 0, 0, 0, 0, 0, 0, 0, 0, 0, 0, 0,\n",
      "        0, 0, 0, 0, 0, 0, 0, 0, 0, 0, 0, 0, 0, 0, 0, 0, 0, 0, 0, 0, 0, 0, 0, 0,\n",
      "        0, 0, 0, 0, 0, 0, 0, 0, 0, 0, 0, 0, 0, 0, 0, 0, 0, 0, 0, 0, 0, 0, 0, 0,\n",
      "        0, 0, 0, 0, 0, 0, 0, 0, 0, 0, 0, 0, 0, 0, 0, 0, 0, 0, 0, 0, 0, 0, 0, 0,\n",
      "        0, 0, 0, 0, 0, 0, 0, 0, 0, 0, 0, 0, 0, 0, 0, 0, 0, 0, 0, 0, 0]) \n",
      "\n",
      "labels  : \n",
      "tensor(0) \n",
      "\n",
      "input_ids  : \n",
      "tensor([    2,  3772,  2139,  2267,  2481,     3,  5605,  2250,  2481,     3,\n",
      "         6409,  2052,  4568,  2179,  6417,  2044,  2315,  2481,   100,  5605,\n",
      "         2250,  2481,   100,  3772,  2139,  2267,  2481,  2052, 16489,   711,\n",
      "         2170, 12827,  2097,  8646,  2481,    12, 15283,    13,  3603,  1528,\n",
      "         2554,  2065,  4538,    18,     3,     0,     0,     0,     0,     0,\n",
      "            0,     0,     0,     0,     0,     0,     0,     0,     0,     0,\n",
      "            0,     0,     0,     0,     0,     0,     0,     0,     0,     0,\n",
      "            0,     0,     0,     0,     0,     0,     0,     0,     0,     0,\n",
      "            0,     0,     0,     0,     0,     0,     0,     0,     0,     0,\n",
      "            0,     0,     0,     0,     0,     0,     0,     0,     0,     0,\n",
      "            0,     0,     0,     0,     0,     0,     0,     0,     0,     0,\n",
      "            0,     0,     0,     0,     0,     0,     0,     0,     0,     0,\n",
      "            0,     0,     0,     0,     0,     0,     0,     0,     0,     0,\n",
      "            0,     0,     0,     0,     0,     0,     0,     0,     0,     0,\n",
      "            0,     0,     0,     0,     0,     0,     0,     0,     0,     0,\n",
      "            0,     0,     0,     0,     0,     0,     0,     0,     0,     0,\n",
      "            0,     0,     0,     0,     0,     0,     0,     0,     0,     0,\n",
      "            0,     0,     0,     0,     0,     0,     0,     0,     0,     0,\n",
      "            0,     0,     0,     0,     0,     0,     0,     0,     0,     0,\n",
      "            0,     0,     0,     0,     0,     0,     0,     0,     0,     0,\n",
      "            0,     0,     0,     0,     0,     0,     0,     0,     0,     0,\n",
      "            0,     0,     0,     0,     0,     0,     0,     0,     0,     0,\n",
      "            0,     0,     0,     0,     0,     0,     0,     0,     0,     0,\n",
      "            0,     0,     0,     0,     0,     0,     0]) \n",
      "\n",
      "token_type_ids  : \n",
      "tensor([0, 0, 0, 0, 0, 0, 0, 0, 0, 0, 1, 1, 1, 1, 1, 1, 1, 1, 1, 1, 1, 1, 1, 1,\n",
      "        1, 1, 1, 1, 1, 1, 1, 1, 1, 1, 1, 1, 1, 1, 1, 1, 1, 1, 1, 1, 1, 0, 0, 0,\n",
      "        0, 0, 0, 0, 0, 0, 0, 0, 0, 0, 0, 0, 0, 0, 0, 0, 0, 0, 0, 0, 0, 0, 0, 0,\n",
      "        0, 0, 0, 0, 0, 0, 0, 0, 0, 0, 0, 0, 0, 0, 0, 0, 0, 0, 0, 0, 0, 0, 0, 0,\n",
      "        0, 0, 0, 0, 0, 0, 0, 0, 0, 0, 0, 0, 0, 0, 0, 0, 0, 0, 0, 0, 0, 0, 0, 0,\n",
      "        0, 0, 0, 0, 0, 0, 0, 0, 0, 0, 0, 0, 0, 0, 0, 0, 0, 0, 0, 0, 0, 0, 0, 0,\n",
      "        0, 0, 0, 0, 0, 0, 0, 0, 0, 0, 0, 0, 0, 0, 0, 0, 0, 0, 0, 0, 0, 0, 0, 0,\n",
      "        0, 0, 0, 0, 0, 0, 0, 0, 0, 0, 0, 0, 0, 0, 0, 0, 0, 0, 0, 0, 0, 0, 0, 0,\n",
      "        0, 0, 0, 0, 0, 0, 0, 0, 0, 0, 0, 0, 0, 0, 0, 0, 0, 0, 0, 0, 0, 0, 0, 0,\n",
      "        0, 0, 0, 0, 0, 0, 0, 0, 0, 0, 0, 0, 0, 0, 0, 0, 0, 0, 0, 0, 0]) \n",
      "\n",
      "attention_mask  : \n",
      "tensor([1, 1, 1, 1, 1, 1, 1, 1, 1, 1, 1, 1, 1, 1, 1, 1, 1, 1, 1, 1, 1, 1, 1, 1,\n",
      "        1, 1, 1, 1, 1, 1, 1, 1, 1, 1, 1, 1, 1, 1, 1, 1, 1, 1, 1, 1, 1, 0, 0, 0,\n",
      "        0, 0, 0, 0, 0, 0, 0, 0, 0, 0, 0, 0, 0, 0, 0, 0, 0, 0, 0, 0, 0, 0, 0, 0,\n",
      "        0, 0, 0, 0, 0, 0, 0, 0, 0, 0, 0, 0, 0, 0, 0, 0, 0, 0, 0, 0, 0, 0, 0, 0,\n",
      "        0, 0, 0, 0, 0, 0, 0, 0, 0, 0, 0, 0, 0, 0, 0, 0, 0, 0, 0, 0, 0, 0, 0, 0,\n",
      "        0, 0, 0, 0, 0, 0, 0, 0, 0, 0, 0, 0, 0, 0, 0, 0, 0, 0, 0, 0, 0, 0, 0, 0,\n",
      "        0, 0, 0, 0, 0, 0, 0, 0, 0, 0, 0, 0, 0, 0, 0, 0, 0, 0, 0, 0, 0, 0, 0, 0,\n",
      "        0, 0, 0, 0, 0, 0, 0, 0, 0, 0, 0, 0, 0, 0, 0, 0, 0, 0, 0, 0, 0, 0, 0, 0,\n",
      "        0, 0, 0, 0, 0, 0, 0, 0, 0, 0, 0, 0, 0, 0, 0, 0, 0, 0, 0, 0, 0, 0, 0, 0,\n",
      "        0, 0, 0, 0, 0, 0, 0, 0, 0, 0, 0, 0, 0, 0, 0, 0, 0, 0, 0, 0, 0]) \n",
      "\n",
      "labels  : \n",
      "tensor(0) \n",
      "\n"
     ]
    }
   ],
   "source": [
    "i = 0\n",
    "for data in RE_train_dataset:\n",
    "    for key, value in data.items():\n",
    "        print(key, ' : ')\n",
    "        print(value,'\\n')\n",
    "    i+=1\n",
    "    if i == 2:\n",
    "        break"
   ]
  },
  {
   "cell_type": "markdown",
   "id": "7bb95bfb-18cd-446d-83d4-620d8b6ab045",
   "metadata": {},
   "source": [
    "# 최대 길이 문장들"
   ]
  },
  {
   "cell_type": "markdown",
   "id": "680884dd-ef03-496c-aae0-c59cf09646da",
   "metadata": {
    "tags": []
   },
   "source": [
    "#### 최대 길이 sentence"
   ]
  },
  {
   "cell_type": "code",
   "execution_count": 28,
   "id": "c54ae366-eb8a-437b-9eb3-e431d2213d44",
   "metadata": {},
   "outputs": [
    {
     "name": "stdout",
     "output_type": "stream",
     "text": [
      "그의 1984년 책인 《머릿속의 혁명: 비틀즈 음반과 60년대》 Revolution in the Head: The Beatles'Records and the Sixties)는 광범위한 주제와 영감의 원천을 예시로 들며 비틀즈 각각의 음반을 조심스럽게 분석하고 있다. 이 책에는 그들 노래를 개별적으로 분석한 내용이 수록되어 있으나, 동시에 주관적인 비평이 쓰여 있다. 폴 매카트니는 이러한 그의 사족에 불만을 표했다. 책을 위해 비틀즈의 오리지널 마스터 테이프에도 접근하여 조사를 했다. 책에는 1960년대 문화와 사회 변화와 비틀즈의 여파를 조사한 〈Fabled Foursome, Disappearing Decade〉이라는 수필도 존재한다. 싱글 차트 정상에 오른 비틀즈 싱글에 대해 쓰여진 책을 2002년 별도로 발간했다. 이 편집본은 새롭고 더 줄인 소개와 비틀즈의 컴필레이션 《1 에 수록된 곡만을 넣었다.\n"
     ]
    }
   ],
   "source": [
    "max_len_sentence = \"\"\n",
    "m = 0\n",
    "for sent in train_dataset['sentence']:\n",
    "    if m<len(sent):\n",
    "        m = len(sent)\n",
    "        max_len_sentence=sent\n",
    "    \n",
    "print(max_len_sentence)"
   ]
  },
  {
   "cell_type": "code",
   "execution_count": 29,
   "id": "5e1a0831-8db5-4b48-aeab-1ab59559fbc0",
   "metadata": {},
   "outputs": [
    {
     "name": "stdout",
     "output_type": "stream",
     "text": [
      "[CLS]그##의1984##년책##인《머릿속##의혁명:비틀즈음반##과60##년##대》Rev##olutionintheHe##ad:TheBe##at##les'Rec##ord##sandtheS##ix##ti##es)는광범위##한주제##와영감##의원천##을예시##로들##며비틀즈각각##의음반##을조심##스럽##게분석##하고있##다.이책##에##는그##들노래##를개별##적으로분석##한내용##이수록##되##어있##으나,동시##에주관##적인비평##이쓰여있##다.폴매카##트니##는이러##한그##의사##족##에불만##을표했##다.책##을위해비틀즈##의오리지널마스터테이프##에도접근##하여조사##를했##다.책##에##는1960##년##대문화##와사회변화##와비틀즈##의여파##를조사##한〈F##able##dF##our##s##ome,Dis##app##ear##ingDec##ade〉이라##는수필##도존재##한다.싱글차트정상##에오른비틀즈싱글##에대해쓰여진책##을2002##년별도##로발간##했##다.이편집##본##은새롭##고더줄인소개##와비틀즈##의컴##필##레이션《1에수록##된곡##만##을넣##었##다.[SEP]\n",
      "560\n",
      "tensor([    2,   636,  2079, 11044,  2440,  1644,  2179,   170,  8370,  2079,\n",
      "         4904,    30, 29830,  8842,  2145,  4343,  2440,  2104,   171, 18359,\n",
      "        23435,  5011,  5062, 13472,  5749,    30,  5790, 17488,  4493, 15546,\n",
      "           11, 26428, 13135,  2041,  5433,  5062,    55, 19699,  4028,  4080,\n",
      "           13,   793,  9774,  2470,  4551,  2522,  8612,  2079,  7848,  2069,\n",
      "        18369,  2200,   882,  2307, 29830,  4235,  2079,  8842,  2069,  5886,\n",
      "        19661,  2318,  3903, 19521,  1513,  2062,    18,  1504,  1644,  2170,\n",
      "         2259,   636,  2031,  4388,  2138,  5849, 11187,  3903,  2470,  3800,\n",
      "         2052,  7851,  2496,  2051,  1513,  4381,    16,  4213,  2170,  5973,\n",
      "        31221,  7513,  2052, 10786,  1513,  2062,    18,  1865, 30943, 27562,\n",
      "         2259,  3839,  2470,   636,  2079,  1233,  2488,  2170,  5793,  2069,\n",
      "        16467,  2062,    18,  1644,  2069,  3627, 29830,  2079, 16627,  8570,\n",
      "        12238,  6509,  4872,  7488,  3742,  2138,  1902,  2062,    18,  1644,\n",
      "         2170,  2259,  8348,  2440,  2104,  3697,  2522,  3647,  3908,  2522,\n",
      "        29830,  2079,  9508,  2138,  3742,  2470,   168,    42, 14204,  2039,\n",
      "           42,  8330,  2041, 13617,    16, 22889, 18927, 10220,  4586, 29491,\n",
      "        16628,   169,  5763,  2259, 10612,  2119,  3990,  4538,    18,  9109,\n",
      "        10016,  4073,  2170,  4696, 29830,  9109,  2170,  3643, 24294,  1644,\n",
      "         2069,  5791,  2440,  5614,  2200,  9085,  2371,  2062,    18,  1504,\n",
      "         6112,  2136,  2073,  5415,  2088,   831, 16972,  4348,  2522, 29830,\n",
      "         2079,  1715,  2163,  9680,   170,    21,  1421,  7851,  2897,   595,\n",
      "         2154,  2069,   751,  2359,  2062,    18,     3])\n",
      "217\n"
     ]
    }
   ],
   "source": [
    "tokenized_max_len_sentence = tokenizer(max_len_sentence,\n",
    "                                       return_tensors=\"pt\",\n",
    "                                       padding=True,\n",
    "                                       truncation=True,\n",
    "                                       max_length=256,\n",
    "                                       add_special_tokens=True,\n",
    "                                      )\n",
    "tokenized_max_len_sentence_string = \"\"\n",
    "for x in tokenizer.convert_ids_to_tokens(tokenized_max_len_sentence['input_ids'][0]):\n",
    "    tokenized_max_len_sentence_string += x\n",
    "\n",
    "print(tokenized_max_len_sentence_string)\n",
    "print(len(tokenized_max_len_sentence_string))\n",
    "print(tokenized_max_len_sentence['input_ids'][0])\n",
    "print(len(tokenizer.convert_ids_to_tokens(tokenized_max_len_sentence['input_ids'][0])))"
   ]
  },
  {
   "cell_type": "markdown",
   "id": "f1abc8dd-bbe7-461c-a7b5-44dd618e0402",
   "metadata": {},
   "source": [
    "#### 최대 길이 subject_entity"
   ]
  },
  {
   "cell_type": "code",
   "execution_count": 30,
   "id": "a0c223b0-5c8f-4922-bebd-be978abef29a",
   "metadata": {},
   "outputs": [
    {
     "data": {
      "text/plain": [
       "'Massachusetts Department of Energy Resources'"
      ]
     },
     "execution_count": 30,
     "metadata": {},
     "output_type": "execute_result"
    }
   ],
   "source": [
    "max_len_sub = \"\"\n",
    "m = 0\n",
    "for sent in train_dataset['subject_entity']:\n",
    "    if m<len(sent):\n",
    "        m = len(sent)\n",
    "        max_len_sub=sent\n",
    "        \n",
    "max_len_sub"
   ]
  },
  {
   "cell_type": "markdown",
   "id": "9aa2b87a-8c1e-4aa1-8536-6fea082afb31",
   "metadata": {},
   "source": [
    "#### 최대 길이 object_entity"
   ]
  },
  {
   "cell_type": "code",
   "execution_count": 31,
   "id": "89044b01-a067-41e3-b68c-15e7b87a377c",
   "metadata": {},
   "outputs": [
    {
     "data": {
      "text/plain": [
       "'International Critical Incident Stress Foundation'"
      ]
     },
     "execution_count": 31,
     "metadata": {},
     "output_type": "execute_result"
    }
   ],
   "source": [
    "max_len_obj = \"\"\n",
    "m = 0\n",
    "for sent in train_dataset['object_entity']:\n",
    "    if m<len(sent):\n",
    "        m = len(sent)\n",
    "        max_len_obj=sent\n",
    "        \n",
    "max_len_obj"
   ]
  },
  {
   "cell_type": "code",
   "execution_count": 32,
   "id": "3485079a-d224-451a-a0aa-00ec49554b81",
   "metadata": {},
   "outputs": [
    {
     "name": "stdout",
     "output_type": "stream",
     "text": [
      "[CLS]Ma##ss##ach##us##ett##sDe##p##art##mentofEn##er##gyRes##our##ce##s[SEP]InternationalC##rit##icalInc##ide##ntSt##ressF##ound##ation[SEP]그##의1984##년책##인《머릿속##의혁명:비틀즈음반##과60##년##대》Rev##olutionintheHe##ad:TheBe##at##les'Rec##ord##sandtheS##ix##ti##es)는광범위##한주제##와영감##의원천##을예시##로들##며비틀즈각각##의음반##을조심##스럽##게분석##하고있##다.이책##에##는그##들노래##를개별##적으로분석##한내용##이수록##되##어있##으나,동시##에주관##적인비평##이쓰여있##다.폴매카##트니##는이러##한그##의사##족##에불만##을표했##다.책##을위해비틀즈##의오리지널마스터테이프##에도접근##하여조사##를했##다.책##에##는1960##년##대문화##와사회변화##와비틀즈##의여파##를조사##한〈F##able##dF##our##s##ome,Dis##app##ear##ingDec##ade〉이라##는수필##도존재##한다.싱글차트정상##에오른비틀즈싱글##에대해쓰여진책##을2002##년별도##로발간##했##다.이편집##본##은새롭##고더줄인소개##와비틀즈##의컴##필##레이션《1에수록##된곡##만##을넣##었##다.[SEP]\n",
      "tensor([    2, 26736,  9864, 13329,  5722, 21794,  2041, 13954,  2006,  8443,\n",
      "         9025,  4868, 11349,  3762, 24193, 15791,  8330,  6259,  2041,     3,\n",
      "        17165,    39, 23363, 12227, 25758, 14811, 30062,  6552, 16304,    42,\n",
      "        16752,  5148,     3,   636,  2079, 11044,  2440,  1644,  2179,   170,\n",
      "         8370,  2079,  4904,    30, 29830,  8842,  2145,  4343,  2440,  2104,\n",
      "          171, 18359, 23435,  5011,  5062, 13472,  5749,    30,  5790, 17488,\n",
      "         4493, 15546,    11, 26428, 13135,  2041,  5433,  5062,    55, 19699,\n",
      "         4028,  4080,    13,   793,  9774,  2470,  4551,  2522,  8612,  2079,\n",
      "         7848,  2069, 18369,  2200,   882,  2307, 29830,  4235,  2079,  8842,\n",
      "         2069,  5886, 19661,  2318,  3903, 19521,  1513,  2062,    18,  1504,\n",
      "         1644,  2170,  2259,   636,  2031,  4388,  2138,  5849, 11187,  3903,\n",
      "         2470,  3800,  2052,  7851,  2496,  2051,  1513,  4381,    16,  4213,\n",
      "         2170,  5973, 31221,  7513,  2052, 10786,  1513,  2062,    18,  1865,\n",
      "        30943, 27562,  2259,  3839,  2470,   636,  2079,  1233,  2488,  2170,\n",
      "         5793,  2069, 16467,  2062,    18,  1644,  2069,  3627, 29830,  2079,\n",
      "        16627,  8570, 12238,  6509,  4872,  7488,  3742,  2138,  1902,  2062,\n",
      "           18,  1644,  2170,  2259,  8348,  2440,  2104,  3697,  2522,  3647,\n",
      "         3908,  2522, 29830,  2079,  9508,  2138,  3742,  2470,   168,    42,\n",
      "        14204,  2039,    42,  8330,  2041, 13617,    16, 22889, 18927, 10220,\n",
      "         4586, 29491, 16628,   169,  5763,  2259, 10612,  2119,  3990,  4538,\n",
      "           18,  9109, 10016,  4073,  2170,  4696, 29830,  9109,  2170,  3643,\n",
      "        24294,  1644,  2069,  5791,  2440,  5614,  2200,  9085,  2371,  2062,\n",
      "           18,  1504,  6112,  2136,  2073,  5415,  2088,   831, 16972,  4348,\n",
      "         2522, 29830,  2079,  1715,  2163,  9680,   170,    21,  1421,  7851,\n",
      "         2897,   595,  2154,  2069,   751,  2359,  2062,    18,     3])\n",
      "249\n"
     ]
    }
   ],
   "source": [
    "max_ject_entity = max_len_sub +'[SEP]' + max_len_obj\n",
    "tokenized_max_len_intput = tokenizer(\n",
    "    max_ject_entity, \n",
    "    max_len_sentence,return_tensors=\"pt\",\n",
    "    padding=True,\n",
    "    truncation=True,\n",
    "    max_length=256,\n",
    "    add_special_tokens=True,\n",
    ")\n",
    "\n",
    "tokenized_max_len_input_string = \"\"\n",
    "for x in tokenizer.convert_ids_to_tokens(tokenized_max_len_intput['input_ids'][0]):\n",
    "    tokenized_max_len_input_string += x\n",
    "#tokenized_max_len_input_string = re.sub('#','',tokenized_max_len_input_string)\n",
    "print(tokenized_max_len_input_string)\n",
    "print(tokenized_max_len_intput['input_ids'][0])\n",
    "print(len(tokenizer.convert_ids_to_tokens(tokenized_max_len_intput['input_ids'][0])))"
   ]
  },
  {
   "cell_type": "code",
   "execution_count": 34,
   "id": "260e25af-4ba2-4806-9cb1-0aa6b07a0497",
   "metadata": {},
   "outputs": [],
   "source": [
    "aug_train_dataset = pd.read_csv(\"../dataset/train/trainslate_en_train.csv\")"
   ]
  },
  {
   "cell_type": "code",
   "execution_count": 35,
   "id": "b7e123f1-bf98-4ad2-b024-63e89b0b77e1",
   "metadata": {},
   "outputs": [
    {
     "data": {
      "text/plain": [
       "32417"
      ]
     },
     "execution_count": 35,
     "metadata": {},
     "output_type": "execute_result"
    }
   ],
   "source": [
    "len(aug_train_dataset)"
   ]
  },
  {
   "cell_type": "code",
   "execution_count": 36,
   "id": "94365a42-0e8d-44ec-8e59-3406acd193bf",
   "metadata": {},
   "outputs": [
    {
     "data": {
      "text/plain": [
       "32417"
      ]
     },
     "execution_count": 36,
     "metadata": {},
     "output_type": "execute_result"
    }
   ],
   "source": [
    "len(train_dataset)"
   ]
  },
  {
   "cell_type": "code",
   "execution_count": 41,
   "id": "f9cea643-6cc7-42fc-9bf3-409e49cf88c3",
   "metadata": {},
   "outputs": [
    {
     "data": {
      "text/plain": [
       "32469"
      ]
     },
     "execution_count": 41,
     "metadata": {},
     "output_type": "execute_result"
    }
   ],
   "source": []
  },
  {
   "cell_type": "code",
   "execution_count": 46,
   "id": "6993c2a9-6d0d-4f1c-bece-de25b6147889",
   "metadata": {},
   "outputs": [
    {
     "data": {
      "text/html": [
       "<div>\n",
       "<style scoped>\n",
       "    .dataframe tbody tr th:only-of-type {\n",
       "        vertical-align: middle;\n",
       "    }\n",
       "\n",
       "    .dataframe tbody tr th {\n",
       "        vertical-align: top;\n",
       "    }\n",
       "\n",
       "    .dataframe thead th {\n",
       "        text-align: right;\n",
       "    }\n",
       "</style>\n",
       "<table border=\"1\" class=\"dataframe\">\n",
       "  <thead>\n",
       "    <tr style=\"text-align: right;\">\n",
       "      <th></th>\n",
       "      <th>id</th>\n",
       "      <th>sentence</th>\n",
       "      <th>subject_entity</th>\n",
       "      <th>object_entity</th>\n",
       "      <th>label</th>\n",
       "    </tr>\n",
       "  </thead>\n",
       "  <tbody>\n",
       "    <tr>\n",
       "      <th>0</th>\n",
       "      <td>0</td>\n",
       "      <td>〈Something〉는 조지 해리슨이 쓰고 비틀즈가 1969년 앨범 《Abbey R...</td>\n",
       "      <td>비틀즈</td>\n",
       "      <td>조지 해리슨</td>\n",
       "      <td>no_relation</td>\n",
       "    </tr>\n",
       "    <tr>\n",
       "      <th>1</th>\n",
       "      <td>1</td>\n",
       "      <td>호남이 기반인 바른미래당·대안신당·민주평화당이 우여곡절 끝에 합당해 민생당(가칭)으...</td>\n",
       "      <td>민주평화당</td>\n",
       "      <td>대안신당</td>\n",
       "      <td>no_relation</td>\n",
       "    </tr>\n",
       "    <tr>\n",
       "      <th>2</th>\n",
       "      <td>2</td>\n",
       "      <td>K리그2에서 성적 1위를 달리고 있는 광주FC는 지난 26일 한국프로축구연맹으로부터...</td>\n",
       "      <td>광주FC</td>\n",
       "      <td>한국프로축구연맹</td>\n",
       "      <td>org:member_of</td>\n",
       "    </tr>\n",
       "    <tr>\n",
       "      <th>3</th>\n",
       "      <td>3</td>\n",
       "      <td>균일가 생활용품점 (주)아성다이소(대표 박정부)는 코로나19 바이러스로 어려움을 겪...</td>\n",
       "      <td>아성다이소</td>\n",
       "      <td>박정부</td>\n",
       "      <td>org:top_members/employees</td>\n",
       "    </tr>\n",
       "    <tr>\n",
       "      <th>4</th>\n",
       "      <td>4</td>\n",
       "      <td>1967년 프로 야구 드래프트 1순위로 요미우리 자이언츠에게 입단하면서 등번호는 8...</td>\n",
       "      <td>요미우리 자이언츠</td>\n",
       "      <td>1967</td>\n",
       "      <td>no_relation</td>\n",
       "    </tr>\n",
       "    <tr>\n",
       "      <th>...</th>\n",
       "      <td>...</td>\n",
       "      <td>...</td>\n",
       "      <td>...</td>\n",
       "      <td>...</td>\n",
       "      <td>...</td>\n",
       "    </tr>\n",
       "    <tr>\n",
       "      <th>32415</th>\n",
       "      <td>32468</td>\n",
       "      <td>중앙일보, JTBC 회장을 지낸 이후 중앙홀딩스 회장, 재단법인 한반도평화만들기 이...</td>\n",
       "      <td>JTBC</td>\n",
       "      <td>중앙홀딩스</td>\n",
       "      <td>no_relation</td>\n",
       "    </tr>\n",
       "    <tr>\n",
       "      <th>32416</th>\n",
       "      <td>32469</td>\n",
       "      <td>화순군(군수 구충곤)은 17일 동면의 이장 20여 명이 코로나 19 예방을 위해 버...</td>\n",
       "      <td>화순군</td>\n",
       "      <td>구충곤</td>\n",
       "      <td>org:top_members/employees</td>\n",
       "    </tr>\n",
       "    <tr>\n",
       "      <th>32417</th>\n",
       "      <td>32470</td>\n",
       "      <td>hi</td>\n",
       "      <td>hi</td>\n",
       "      <td>hi</td>\n",
       "      <td>hi</td>\n",
       "    </tr>\n",
       "    <tr>\n",
       "      <th>32418</th>\n",
       "      <td>32471</td>\n",
       "      <td>hi</td>\n",
       "      <td>hi</td>\n",
       "      <td>hi</td>\n",
       "      <td>hi</td>\n",
       "    </tr>\n",
       "    <tr>\n",
       "      <th>32419</th>\n",
       "      <td>32472</td>\n",
       "      <td>hi</td>\n",
       "      <td>hi</td>\n",
       "      <td>hi</td>\n",
       "      <td>hi</td>\n",
       "    </tr>\n",
       "  </tbody>\n",
       "</table>\n",
       "<p>32420 rows × 5 columns</p>\n",
       "</div>"
      ],
      "text/plain": [
       "          id                                           sentence  \\\n",
       "0          0  〈Something〉는 조지 해리슨이 쓰고 비틀즈가 1969년 앨범 《Abbey R...   \n",
       "1          1  호남이 기반인 바른미래당·대안신당·민주평화당이 우여곡절 끝에 합당해 민생당(가칭)으...   \n",
       "2          2  K리그2에서 성적 1위를 달리고 있는 광주FC는 지난 26일 한국프로축구연맹으로부터...   \n",
       "3          3  균일가 생활용품점 (주)아성다이소(대표 박정부)는 코로나19 바이러스로 어려움을 겪...   \n",
       "4          4  1967년 프로 야구 드래프트 1순위로 요미우리 자이언츠에게 입단하면서 등번호는 8...   \n",
       "...      ...                                                ...   \n",
       "32415  32468  중앙일보, JTBC 회장을 지낸 이후 중앙홀딩스 회장, 재단법인 한반도평화만들기 이...   \n",
       "32416  32469  화순군(군수 구충곤)은 17일 동면의 이장 20여 명이 코로나 19 예방을 위해 버...   \n",
       "32417  32470                                                 hi   \n",
       "32418  32471                                                 hi   \n",
       "32419  32472                                                 hi   \n",
       "\n",
       "      subject_entity object_entity                      label  \n",
       "0                비틀즈        조지 해리슨                no_relation  \n",
       "1              민주평화당          대안신당                no_relation  \n",
       "2               광주FC      한국프로축구연맹              org:member_of  \n",
       "3              아성다이소           박정부  org:top_members/employees  \n",
       "4          요미우리 자이언츠          1967                no_relation  \n",
       "...              ...           ...                        ...  \n",
       "32415           JTBC         중앙홀딩스                no_relation  \n",
       "32416            화순군           구충곤  org:top_members/employees  \n",
       "32417             hi            hi                         hi  \n",
       "32418             hi            hi                         hi  \n",
       "32419             hi            hi                         hi  \n",
       "\n",
       "[32420 rows x 5 columns]"
      ]
     },
     "execution_count": 46,
     "metadata": {},
     "output_type": "execute_result"
    }
   ],
   "source": [
    "new_row = {'id':, 'sentence':\"hi\", 'subject_entity':\"hi\", 'object_entity':\"hi\", 'label':\"hi\"}\n",
    "train_dataset = train_dataset.append(new_row, ignore_index=True)\n",
    "train_dataset"
   ]
  },
  {
   "cell_type": "code",
   "execution_count": null,
   "id": "968bc55e-dc74-4120-9f1f-d883391eb783",
   "metadata": {},
   "outputs": [],
   "source": []
  }
 ],
 "metadata": {
  "kernelspec": {
   "display_name": "Python 3 (ipykernel)",
   "language": "python",
   "name": "python3"
  },
  "language_info": {
   "codemirror_mode": {
    "name": "ipython",
    "version": 3
   },
   "file_extension": ".py",
   "mimetype": "text/x-python",
   "name": "python",
   "nbconvert_exporter": "python",
   "pygments_lexer": "ipython3",
   "version": "3.8.5"
  }
 },
 "nbformat": 4,
 "nbformat_minor": 5
}
