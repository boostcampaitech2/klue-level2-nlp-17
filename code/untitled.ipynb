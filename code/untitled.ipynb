{
 "cells": [
  {
   "cell_type": "code",
   "execution_count": 2,
   "source": [
    "from sklearn.model_selection import StratifiedKFold\n",
    "from sklearn.model_selection import train_test_split\n",
    "import numpy as np"
   ],
   "outputs": [],
   "metadata": {}
  },
  {
   "cell_type": "code",
   "execution_count": 80,
   "source": [
    "data = np.arange(30)\n",
    "label = [0]*5 + [1]*10 + [2]*15\n",
    "print(\"train_data : \", data)\n",
    "print(\"train_label : \", label)"
   ],
   "outputs": [
    {
     "output_type": "stream",
     "name": "stdout",
     "text": [
      "train_data :  [ 0  1  2  3  4  5  6  7  8  9 10 11 12 13 14 15 16 17 18 19 20 21 22 23\n",
      " 24 25 26 27 28 29]\n",
      "train_label :  [0, 0, 0, 0, 0, 1, 1, 1, 1, 1, 1, 1, 1, 1, 1, 2, 2, 2, 2, 2, 2, 2, 2, 2, 2, 2, 2, 2, 2, 2]\n"
     ]
    }
   ],
   "metadata": {}
  },
  {
   "cell_type": "code",
   "execution_count": 81,
   "source": [
    "skf = StratifiedKFold(n_splits=5, shuffle=True)\n",
    "print(\"n_splits : \", skf.get_n_splits(data, label))\n",
    "for train_index, test_index in skf.split(data, label):\n",
    "    print(\"train_index : \", train_index, \"test index : \", test_index)"
   ],
   "outputs": [
    {
     "output_type": "stream",
     "name": "stdout",
     "text": [
      "n_splits :  5\n",
      "train_index :  [ 1  2  3  4  5  6  8  9 10 12 13 14 15 16 18 19 20 22 23 24 25 26 28 29] test index :  [ 0  7 11 17 21 27]\n",
      "train_index :  [ 0  1  2  4  5  6  7  9 11 12 13 14 15 16 17 18 20 21 22 23 25 26 27 29] test index :  [ 3  8 10 19 24 28]\n",
      "train_index :  [ 0  1  2  3  6  7  8  9 10 11 12 13 15 16 17 19 21 22 23 24 25 26 27 28] test index :  [ 4  5 14 18 20 29]\n",
      "train_index :  [ 0  2  3  4  5  6  7  8 10 11 13 14 16 17 18 19 20 21 23 24 26 27 28 29] test index :  [ 1  9 12 15 22 25]\n",
      "train_index :  [ 0  1  3  4  5  7  8  9 10 11 12 14 15 17 18 19 20 21 22 24 25 27 28 29] test index :  [ 2  6 13 16 23 26]\n"
     ]
    }
   ],
   "metadata": {}
  },
  {
   "cell_type": "code",
   "execution_count": 108,
   "source": [
    "train_data, val_data, train_label, val_label = train_test_split(data, label, test_size=0.2, shuffle=True, stratify=label)\n",
    "print(\"train_data : \", train_data)\n",
    "print(\"val_data : \", val_data)\n",
    "print(\"train_label : \", train_label)\n",
    "print(\"val_label : \", val_label)"
   ],
   "outputs": [
    {
     "output_type": "stream",
     "name": "stdout",
     "text": [
      "train_data :  [ 5 10  9  7 12 29 18 19  1 14 15 27 21 16  0 26  3 22 11 20 17  4 23  6]\n",
      "val_data :  [25  8 28 13 24  2]\n",
      "train_label :  [1, 1, 1, 1, 1, 2, 2, 2, 0, 1, 2, 2, 2, 2, 0, 2, 0, 2, 1, 2, 2, 0, 2, 1]\n",
      "val_label :  [2, 1, 2, 1, 2, 0]\n"
     ]
    }
   ],
   "metadata": {}
  },
  {
   "cell_type": "code",
   "execution_count": null,
   "source": [],
   "outputs": [],
   "metadata": {}
  },
  {
   "cell_type": "code",
   "execution_count": null,
   "source": [],
   "outputs": [],
   "metadata": {}
  }
 ],
 "metadata": {
  "orig_nbformat": 4,
  "language_info": {
   "name": "python",
   "version": "3.8.5",
   "mimetype": "text/x-python",
   "codemirror_mode": {
    "name": "ipython",
    "version": 3
   },
   "pygments_lexer": "ipython3",
   "nbconvert_exporter": "python",
   "file_extension": ".py"
  },
  "kernelspec": {
   "name": "python3",
   "display_name": "Python 3.8.5 64-bit ('base': conda)"
  },
  "interpreter": {
   "hash": "98b0a9b7b4eaaa670588a142fd0a9b87eaafe866f1db4228be72b4211d12040f"
  }
 },
 "nbformat": 4,
 "nbformat_minor": 2
}