{
 "cells": [
  {
   "cell_type": "code",
   "execution_count": 91,
   "source": [
    "from sklearn.model_selection import StratifiedKFold\n",
    "from sklearn.model_selection import train_test_split\n",
    "import numpy as np\n",
    "import pandas as pd"
   ],
   "outputs": [],
   "metadata": {}
  },
  {
   "cell_type": "code",
   "execution_count": 97,
   "source": [
    "data = np.array(np.arange(30))\n",
    "label = np.array([0]*5 + [1]*10 + [2]*15)\n",
    "print(\"train_data : \", data)\n",
    "print(\"train_label : \", label)"
   ],
   "outputs": [
    {
     "output_type": "stream",
     "name": "stdout",
     "text": [
      "train_data :  [ 0  1  2  3  4  5  6  7  8  9 10 11 12 13 14 15 16 17 18 19 20 21 22 23\n",
      " 24 25 26 27 28 29]\n",
      "train_label :  [0 0 0 0 0 1 1 1 1 1 1 1 1 1 1 2 2 2 2 2 2 2 2 2 2 2 2 2 2 2]\n"
     ]
    }
   ],
   "metadata": {}
  },
  {
   "cell_type": "code",
   "execution_count": 95,
   "source": [
    "skf = StratifiedKFold(n_splits=5, shuffle=True)\n",
    "print(\"n_splits : \", skf.get_n_splits(data, label))\n",
    "for train_index, test_index in skf.split(data, label):\n",
    "    print(\"train_index : \", train_index, \"test_index : \", test_index)\n",
    "    print(\"train_dataset : \", data[train_index], \"test_dataset : \", data[test_index])\n",
    "    print(\"train_label : \", label[train_index], \"test_label : \", label[test_index])"
   ],
   "outputs": [
    {
     "output_type": "stream",
     "name": "stdout",
     "text": [
      "n_splits :  5\n",
      "train_index :  [ 0  2  3  4  5  6  8  9 11 12 13 14 15 16 17 18 19 20 21 22 23 24 25 29] test_index :  [ 1  7 10 26 27 28]\n",
      "train_dataset :  [ 0  2  3  4  5  6  8  9 11 12 13 14 15 16 17 18 19 20 21 22 23 24 25 29] test_dataset :  [ 1  7 10 26 27 28]\n",
      "train_label :  [0 0 0 0 1 1 1 1 1 1 1 1 2 2 2 2 2 2 2 2 2 2 2 2] test_label :  [0 1 1 2 2 2]\n",
      "train_index :  [ 0  1  2  3  5  6  7 10 11 12 13 14 15 16 18 19 20 22 23 24 26 27 28 29] test_index :  [ 4  8  9 17 21 25]\n",
      "train_dataset :  [ 0  1  2  3  5  6  7 10 11 12 13 14 15 16 18 19 20 22 23 24 26 27 28 29] test_dataset :  [ 4  8  9 17 21 25]\n",
      "train_label :  [0 0 0 0 1 1 1 1 1 1 1 1 2 2 2 2 2 2 2 2 2 2 2 2] test_label :  [0 1 1 2 2 2]\n",
      "train_index :  [ 0  1  2  4  5  6  7  8  9 10 12 13 15 16 17 18 20 21 23 24 25 26 27 28] test_index :  [ 3 11 14 19 22 29]\n",
      "train_dataset :  [ 0  1  2  4  5  6  7  8  9 10 12 13 15 16 17 18 20 21 23 24 25 26 27 28] test_dataset :  [ 3 11 14 19 22 29]\n",
      "train_label :  [0 0 0 0 1 1 1 1 1 1 1 1 2 2 2 2 2 2 2 2 2 2 2 2] test_label :  [0 1 1 2 2 2]\n",
      "train_index :  [ 1  2  3  4  7  8  9 10 11 12 13 14 17 18 19 20 21 22 23 25 26 27 28 29] test_index :  [ 0  5  6 15 16 24]\n",
      "train_dataset :  [ 1  2  3  4  7  8  9 10 11 12 13 14 17 18 19 20 21 22 23 25 26 27 28 29] test_dataset :  [ 0  5  6 15 16 24]\n",
      "train_label :  [0 0 0 0 1 1 1 1 1 1 1 1 2 2 2 2 2 2 2 2 2 2 2 2] test_label :  [0 1 1 2 2 2]\n",
      "train_index :  [ 0  1  3  4  5  6  7  8  9 10 11 14 15 16 17 19 21 22 24 25 26 27 28 29] test_index :  [ 2 12 13 18 20 23]\n",
      "train_dataset :  [ 0  1  3  4  5  6  7  8  9 10 11 14 15 16 17 19 21 22 24 25 26 27 28 29] test_dataset :  [ 2 12 13 18 20 23]\n",
      "train_label :  [0 0 0 0 1 1 1 1 1 1 1 1 2 2 2 2 2 2 2 2 2 2 2 2] test_label :  [0 1 1 2 2 2]\n"
     ]
    }
   ],
   "metadata": {}
  },
  {
   "cell_type": "code",
   "execution_count": 4,
   "source": [
    "train_data, val_data, train_label, val_label = train_test_split(data, label, test_size=0.2, shuffle=True, stratify=label)\n",
    "print(\"train_data : \", train_data)\n",
    "print(\"val_data : \", val_data)\n",
    "print(\"train_label : \", train_label)\n",
    "print(\"val_label : \", val_label)"
   ],
   "outputs": [
    {
     "output_type": "stream",
     "name": "stdout",
     "text": [
      "train_data :  [ 3  6 16  4  9 26 13 10  8 24 29  7 11 17 12 25 21 15 22 18  0 28  2 23]\n",
      "val_data :  [27  5 14  1 19 20]\n",
      "train_label :  [0, 1, 2, 0, 1, 2, 1, 1, 1, 2, 2, 1, 1, 2, 1, 2, 2, 2, 2, 2, 0, 2, 0, 2]\n",
      "val_label :  [2, 1, 1, 0, 2, 2]\n"
     ]
    }
   ],
   "metadata": {}
  },
  {
   "cell_type": "code",
   "execution_count": 80,
   "source": [
    "total = []\n",
    "output1 = pd.DataFrame(\n",
    "        {\n",
    "            \"id\": [1, 2, 3],\n",
    "            \"pred_label\": [\"label1\", \"label2\", \"labe3\"],\n",
    "            \"probs\": [[0.1, 0.2, 0.3, 0.4, 0.5], [0.1, 0.2, 0.3, 0.4, 0.5], [0.1, 0.2, 0.3, 0.4, 0.5]]\n",
    "        }\n",
    "    )\n",
    "output2 = pd.DataFrame(\n",
    "        {\n",
    "            \"id\": [1, 2, 3],\n",
    "            \"pred_label\": [\"label4\", \"label5\", \"labe6\"],\n",
    "            \"probs\": [[0.1, 0.2, 0.3, 0.4, 0.5], [0.1, 0.2, 0.3, 0.4, 0.5], [0.1, 0.2, 0.3, 0.4, 0.5]]\n",
    "        }\n",
    "    )\n",
    "output3 = pd.DataFrame(\n",
    "        {\n",
    "            \"id\": [1, 2, 3],\n",
    "            \"pred_label\": [\"label1\", \"label2\", \"labe3\"],\n",
    "            \"probs\": [[0.1, 0.2, 0.3, 0.4, 0.5], [0.1, 0.2, 0.3, 0.4, 0.5], [0.1, 0.2, 0.3, 0.4, 0.5]]\n",
    "        }\n",
    "    )\n",
    "output4 = pd.DataFrame(\n",
    "        {\n",
    "            \"id\": [1, 2, 3],\n",
    "            \"pred_label\": [\"label4\", \"label5\", \"labe6\"],\n",
    "            \"probs\": [[0.1, 0.2, 0.3, 0.4, 0.5], [0.1, 0.2, 0.3, 0.4, 0.5], [0.1, 0.2, 0.3, 0.4, 0.5]]\n",
    "        }\n",
    "    )    \n",
    "total.append(output1)\n",
    "total.append(output2)\n",
    "total.append(output3)\n",
    "total.append(output4)\n",
    "total"
   ],
   "outputs": [
    {
     "output_type": "execute_result",
     "data": {
      "text/plain": [
       "[   id pred_label                      probs\n",
       " 0   1     label1  [0.1, 0.2, 0.3, 0.4, 0.5]\n",
       " 1   2     label2  [0.1, 0.2, 0.3, 0.4, 0.5]\n",
       " 2   3      labe3  [0.1, 0.2, 0.3, 0.4, 0.5],\n",
       "    id pred_label                      probs\n",
       " 0   1     label4  [0.1, 0.2, 0.3, 0.4, 0.5]\n",
       " 1   2     label5  [0.1, 0.2, 0.3, 0.4, 0.5]\n",
       " 2   3      labe6  [0.1, 0.2, 0.3, 0.4, 0.5],\n",
       "    id pred_label                      probs\n",
       " 0   1     label1  [0.1, 0.2, 0.3, 0.4, 0.5]\n",
       " 1   2     label2  [0.1, 0.2, 0.3, 0.4, 0.5]\n",
       " 2   3      labe3  [0.1, 0.2, 0.3, 0.4, 0.5],\n",
       "    id pred_label                      probs\n",
       " 0   1     label4  [0.1, 0.2, 0.3, 0.4, 0.5]\n",
       " 1   2     label5  [0.1, 0.2, 0.3, 0.4, 0.5]\n",
       " 2   3      labe6  [0.1, 0.2, 0.3, 0.4, 0.5]]"
      ]
     },
     "metadata": {},
     "execution_count": 80
    }
   ],
   "metadata": {}
  },
  {
   "cell_type": "code",
   "execution_count": 90,
   "source": [
    "probs_sum = [output.probs.tolist() for output in total]\n",
    "probs_sum = np.sum(probs_sum, axis=0) / 4\n",
    "probs_sum = probs_sum.tolist()\n",
    "id = output1.id\n",
    "pred_label = np.argmax(probs_sum, axis=1)\n",
    "print(id)\n",
    "print(pred_label)\n",
    "print(probs_sum)\n",
    "\n",
    "\n",
    "output = pd.DataFrame(\n",
    "        {\n",
    "            \"id\": id,\n",
    "            \"pred_label\": pred_label,\n",
    "            \"probs\": probs_sum,\n",
    "        }\n",
    "    ) \n",
    "output"
   ],
   "outputs": [
    {
     "output_type": "stream",
     "name": "stdout",
     "text": [
      "0    1\n",
      "1    2\n",
      "2    3\n",
      "Name: id, dtype: int64\n",
      "[4 4 4]\n",
      "[[0.1, 0.2, 0.3, 0.4, 0.5], [0.1, 0.2, 0.3, 0.4, 0.5], [0.1, 0.2, 0.3, 0.4, 0.5]]\n"
     ]
    },
    {
     "output_type": "execute_result",
     "data": {
      "text/html": [
       "<div>\n",
       "<style scoped>\n",
       "    .dataframe tbody tr th:only-of-type {\n",
       "        vertical-align: middle;\n",
       "    }\n",
       "\n",
       "    .dataframe tbody tr th {\n",
       "        vertical-align: top;\n",
       "    }\n",
       "\n",
       "    .dataframe thead th {\n",
       "        text-align: right;\n",
       "    }\n",
       "</style>\n",
       "<table border=\"1\" class=\"dataframe\">\n",
       "  <thead>\n",
       "    <tr style=\"text-align: right;\">\n",
       "      <th></th>\n",
       "      <th>id</th>\n",
       "      <th>pred_label</th>\n",
       "      <th>probs</th>\n",
       "    </tr>\n",
       "  </thead>\n",
       "  <tbody>\n",
       "    <tr>\n",
       "      <th>0</th>\n",
       "      <td>1</td>\n",
       "      <td>4</td>\n",
       "      <td>[0.1, 0.2, 0.3, 0.4, 0.5]</td>\n",
       "    </tr>\n",
       "    <tr>\n",
       "      <th>1</th>\n",
       "      <td>2</td>\n",
       "      <td>4</td>\n",
       "      <td>[0.1, 0.2, 0.3, 0.4, 0.5]</td>\n",
       "    </tr>\n",
       "    <tr>\n",
       "      <th>2</th>\n",
       "      <td>3</td>\n",
       "      <td>4</td>\n",
       "      <td>[0.1, 0.2, 0.3, 0.4, 0.5]</td>\n",
       "    </tr>\n",
       "  </tbody>\n",
       "</table>\n",
       "</div>"
      ],
      "text/plain": [
       "   id  pred_label                      probs\n",
       "0   1           4  [0.1, 0.2, 0.3, 0.4, 0.5]\n",
       "1   2           4  [0.1, 0.2, 0.3, 0.4, 0.5]\n",
       "2   3           4  [0.1, 0.2, 0.3, 0.4, 0.5]"
      ]
     },
     "metadata": {},
     "execution_count": 90
    }
   ],
   "metadata": {}
  },
  {
   "cell_type": "code",
   "execution_count": 106,
   "source": [
    "aa = np.array([1, 4, 6, 8, 10])\n",
    "list(aa[[1, 2]])\n"
   ],
   "outputs": [
    {
     "output_type": "execute_result",
     "data": {
      "text/plain": [
       "[4, 6]"
      ]
     },
     "metadata": {},
     "execution_count": 106
    }
   ],
   "metadata": {}
  },
  {
   "cell_type": "code",
   "execution_count": null,
   "source": [],
   "outputs": [],
   "metadata": {}
  },
  {
   "cell_type": "code",
   "execution_count": null,
   "source": [],
   "outputs": [],
   "metadata": {}
  }
 ],
 "metadata": {
  "orig_nbformat": 4,
  "language_info": {
   "name": "python",
   "version": "3.8.5",
   "mimetype": "text/x-python",
   "codemirror_mode": {
    "name": "ipython",
    "version": 3
   },
   "pygments_lexer": "ipython3",
   "nbconvert_exporter": "python",
   "file_extension": ".py"
  },
  "kernelspec": {
   "name": "python3",
   "display_name": "Python 3.8.5 64-bit ('base': conda)"
  },
  "interpreter": {
   "hash": "98b0a9b7b4eaaa670588a142fd0a9b87eaafe866f1db4228be72b4211d12040f"
  }
 },
 "nbformat": 4,
 "nbformat_minor": 2
}