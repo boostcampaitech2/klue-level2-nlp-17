{
 "cells": [
  {
   "cell_type": "code",
   "execution_count": 12,
   "id": "6e1ada51-20f6-4c45-b285-3189512fd228",
   "metadata": {},
   "outputs": [],
   "source": [
    "import os\n",
    "import re\n",
    "import pandas as pd\n",
    "import numpy as np\n",
    "import pickle as pickle"
   ]
  },
  {
   "cell_type": "markdown",
   "id": "38991884-c186-4f98-b04e-e769535179fe",
   "metadata": {},
   "source": [
    "#### 사용법\n",
    "1. prediction 폴더에 submission 파일들을 넣는다\n",
    "2. submission 파일명 규칙은 모델명_submission.csv로 한다."
   ]
  },
  {
   "cell_type": "code",
   "execution_count": 13,
   "id": "71a70381-8eef-454f-87ea-2a5c196a85b4",
   "metadata": {},
   "outputs": [
    {
     "data": {
      "text/plain": [
       "['박submission.csv',\n",
       " '3submission.csv',\n",
       " '.ipynb_checkpoints',\n",
       " '김submission.csv',\n",
       " '1submission.csv',\n",
       " '2submission.csv']"
      ]
     },
     "execution_count": 13,
     "metadata": {},
     "output_type": "execute_result"
    }
   ],
   "source": [
    "prediction_dir_file_list = os.listdir(\"./prediction\")\n",
    "prediction_dir_file_list"
   ]
  },
  {
   "cell_type": "code",
   "execution_count": 14,
   "id": "e00aadf0-60a5-4eb7-bde5-38e1a4f40706",
   "metadata": {},
   "outputs": [
    {
     "data": {
      "text/plain": [
       "['박submission.csv',\n",
       " '3submission.csv',\n",
       " '김submission.csv',\n",
       " '1submission.csv',\n",
       " '2submission.csv']"
      ]
     },
     "execution_count": 14,
     "metadata": {},
     "output_type": "execute_result"
    }
   ],
   "source": [
    "submission_list = []\n",
    "for file in prediction_dir_file_list:\n",
    "    if bool(re.findall(\"submission.csv\",file)):\n",
    "        submission_list.append(file)\n",
    "submission_list"
   ]
  },
  {
   "cell_type": "code",
   "execution_count": 15,
   "id": "24706dbe-ee66-46e6-9324-4ffeb43f0603",
   "metadata": {},
   "outputs": [
    {
     "data": {
      "text/plain": [
       "array([[1.72375157e-02, 9.72540653e-04, 5.24512571e-02, ...,\n",
       "        6.45458051e-05, 1.43813163e-03, 8.62423163e-05],\n",
       "       [2.15909148e-02, 2.74811922e-04, 1.38835244e-04, ...,\n",
       "        1.30889498e-04, 2.77415216e-04, 1.19700153e-04],\n",
       "       [9.99119520e-01, 2.20338361e-05, 2.52962509e-05, ...,\n",
       "        2.57184226e-06, 6.16178560e-06, 6.09484941e-06],\n",
       "       ...,\n",
       "       [1.87324108e-04, 9.99373281e-01, 2.34945523e-05, ...,\n",
       "        7.06621609e-06, 1.02438861e-04, 3.62739959e-06],\n",
       "       [8.73204547e-01, 2.63710203e-04, 9.15341770e-05, ...,\n",
       "        8.29995162e-05, 1.04624101e-04, 8.73736528e-05],\n",
       "       [9.98586452e-01, 4.91811385e-05, 2.00932931e-05, ...,\n",
       "        5.31836794e-06, 7.92130395e-06, 1.21606668e-05]])"
      ]
     },
     "execution_count": 15,
     "metadata": {},
     "output_type": "execute_result"
    }
   ],
   "source": [
    "n = len(submission_list)\n",
    "\n",
    "probs = np.array([eval(x) for x in pd.read_csv(os.path.join('./prediction',submission_list[0]))['probs']]) * (1/n)\n",
    "\n",
    "for file in submission_list[1:]:\n",
    "    submission = pd.read_csv(os.path.join('./prediction',file))\n",
    "    probs += np.array([eval(x) for x in submission['probs']]) * (1/n)\n",
    "\n",
    "probs"
   ]
  },
  {
   "cell_type": "code",
   "execution_count": 16,
   "id": "6bad1070-f29c-487e-a6e7-16a1feff9d54",
   "metadata": {},
   "outputs": [
    {
     "data": {
      "text/plain": [
       "array([ 3, 12,  0, ...,  1,  0,  0])"
      ]
     },
     "execution_count": 16,
     "metadata": {},
     "output_type": "execute_result"
    }
   ],
   "source": [
    "result = np.argmax(probs, axis=-1)\n",
    "result"
   ]
  },
  {
   "cell_type": "code",
   "execution_count": 17,
   "id": "5601d221-6c95-4f85-92bb-f5614fb18001",
   "metadata": {},
   "outputs": [],
   "source": [
    "def num_to_label(label):\n",
    "  \"\"\"\n",
    "    숫자로 되어 있던 class를 원본 문자열 라벨로 변환 합니다.\n",
    "  \"\"\"\n",
    "  origin_label = []\n",
    "  with open('dict_num_to_label.pkl', 'rb') as f:\n",
    "    dict_num_to_label = pickle.load(f)\n",
    "  for v in label:\n",
    "    origin_label.append(dict_num_to_label[v])\n",
    "  \n",
    "  return origin_label"
   ]
  },
  {
   "cell_type": "code",
   "execution_count": 18,
   "id": "eb58f522-f754-4ddc-abbb-137e69e72429",
   "metadata": {},
   "outputs": [],
   "source": [
    "labels = num_to_label(result)"
   ]
  },
  {
   "cell_type": "code",
   "execution_count": 19,
   "id": "77e06590-a474-45ed-b81b-c8f4cac6d860",
   "metadata": {},
   "outputs": [
    {
     "data": {
      "text/plain": [
       "'[0.02,0.00,0.05,0.91,0.00,0.01,0.00,0.00,0.00,0.00,0.00,0.00,0.00,0.00,0.00,0.00,0.00,0.00,0.00,0.00,0.00,0.00,0.00,0.00,0.00,0.00,0.00,0.00,0.00,0.00]'"
      ]
     },
     "execution_count": 19,
     "metadata": {},
     "output_type": "execute_result"
    }
   ],
   "source": [
    "probs = [  '['+','.join([format(x,'.2f') for x in softmax])+']' for softmax in probs]\n",
    "probs[0]"
   ]
  },
  {
   "cell_type": "code",
   "execution_count": 20,
   "id": "e9e8191b-8af1-4628-8aa8-57c0d07368b6",
   "metadata": {},
   "outputs": [],
   "source": [
    "output = pd.DataFrame({'id':submission['id'],'pred_label':labels,'probs':probs,})"
   ]
  },
  {
   "cell_type": "code",
   "execution_count": 21,
   "id": "b25dc227-fa31-4029-a2f4-0fd474f38427",
   "metadata": {},
   "outputs": [
    {
     "data": {
      "text/html": [
       "<div>\n",
       "<style scoped>\n",
       "    .dataframe tbody tr th:only-of-type {\n",
       "        vertical-align: middle;\n",
       "    }\n",
       "\n",
       "    .dataframe tbody tr th {\n",
       "        vertical-align: top;\n",
       "    }\n",
       "\n",
       "    .dataframe thead th {\n",
       "        text-align: right;\n",
       "    }\n",
       "</style>\n",
       "<table border=\"1\" class=\"dataframe\">\n",
       "  <thead>\n",
       "    <tr style=\"text-align: right;\">\n",
       "      <th></th>\n",
       "      <th>id</th>\n",
       "      <th>pred_label</th>\n",
       "      <th>probs</th>\n",
       "    </tr>\n",
       "  </thead>\n",
       "  <tbody>\n",
       "    <tr>\n",
       "      <th>0</th>\n",
       "      <td>0</td>\n",
       "      <td>org:product</td>\n",
       "      <td>[0.02,0.00,0.05,0.91,0.00,0.01,0.00,0.00,0.00,...</td>\n",
       "    </tr>\n",
       "    <tr>\n",
       "      <th>1</th>\n",
       "      <td>1</td>\n",
       "      <td>per:alternate_names</td>\n",
       "      <td>[0.02,0.00,0.00,0.00,0.30,0.00,0.00,0.00,0.00,...</td>\n",
       "    </tr>\n",
       "    <tr>\n",
       "      <th>2</th>\n",
       "      <td>2</td>\n",
       "      <td>no_relation</td>\n",
       "      <td>[1.00,0.00,0.00,0.00,0.00,0.00,0.00,0.00,0.00,...</td>\n",
       "    </tr>\n",
       "    <tr>\n",
       "      <th>3</th>\n",
       "      <td>3</td>\n",
       "      <td>no_relation</td>\n",
       "      <td>[0.97,0.00,0.00,0.00,0.00,0.00,0.00,0.00,0.00,...</td>\n",
       "    </tr>\n",
       "    <tr>\n",
       "      <th>4</th>\n",
       "      <td>4</td>\n",
       "      <td>no_relation</td>\n",
       "      <td>[0.73,0.26,0.00,0.00,0.00,0.00,0.00,0.00,0.00,...</td>\n",
       "    </tr>\n",
       "    <tr>\n",
       "      <th>...</th>\n",
       "      <td>...</td>\n",
       "      <td>...</td>\n",
       "      <td>...</td>\n",
       "    </tr>\n",
       "    <tr>\n",
       "      <th>7760</th>\n",
       "      <td>7760</td>\n",
       "      <td>org:place_of_headquarters</td>\n",
       "      <td>[0.12,0.00,0.00,0.00,0.00,0.00,0.00,0.83,0.00,...</td>\n",
       "    </tr>\n",
       "    <tr>\n",
       "      <th>7761</th>\n",
       "      <td>7761</td>\n",
       "      <td>no_relation</td>\n",
       "      <td>[1.00,0.00,0.00,0.00,0.00,0.00,0.00,0.00,0.00,...</td>\n",
       "    </tr>\n",
       "    <tr>\n",
       "      <th>7762</th>\n",
       "      <td>7762</td>\n",
       "      <td>org:top_members/employees</td>\n",
       "      <td>[0.00,1.00,0.00,0.00,0.00,0.00,0.00,0.00,0.00,...</td>\n",
       "    </tr>\n",
       "    <tr>\n",
       "      <th>7763</th>\n",
       "      <td>7763</td>\n",
       "      <td>no_relation</td>\n",
       "      <td>[0.87,0.00,0.00,0.00,0.00,0.00,0.00,0.00,0.00,...</td>\n",
       "    </tr>\n",
       "    <tr>\n",
       "      <th>7764</th>\n",
       "      <td>7764</td>\n",
       "      <td>no_relation</td>\n",
       "      <td>[1.00,0.00,0.00,0.00,0.00,0.00,0.00,0.00,0.00,...</td>\n",
       "    </tr>\n",
       "  </tbody>\n",
       "</table>\n",
       "<p>7765 rows × 3 columns</p>\n",
       "</div>"
      ],
      "text/plain": [
       "        id                 pred_label  \\\n",
       "0        0                org:product   \n",
       "1        1        per:alternate_names   \n",
       "2        2                no_relation   \n",
       "3        3                no_relation   \n",
       "4        4                no_relation   \n",
       "...    ...                        ...   \n",
       "7760  7760  org:place_of_headquarters   \n",
       "7761  7761                no_relation   \n",
       "7762  7762  org:top_members/employees   \n",
       "7763  7763                no_relation   \n",
       "7764  7764                no_relation   \n",
       "\n",
       "                                                  probs  \n",
       "0     [0.02,0.00,0.05,0.91,0.00,0.01,0.00,0.00,0.00,...  \n",
       "1     [0.02,0.00,0.00,0.00,0.30,0.00,0.00,0.00,0.00,...  \n",
       "2     [1.00,0.00,0.00,0.00,0.00,0.00,0.00,0.00,0.00,...  \n",
       "3     [0.97,0.00,0.00,0.00,0.00,0.00,0.00,0.00,0.00,...  \n",
       "4     [0.73,0.26,0.00,0.00,0.00,0.00,0.00,0.00,0.00,...  \n",
       "...                                                 ...  \n",
       "7760  [0.12,0.00,0.00,0.00,0.00,0.00,0.00,0.83,0.00,...  \n",
       "7761  [1.00,0.00,0.00,0.00,0.00,0.00,0.00,0.00,0.00,...  \n",
       "7762  [0.00,1.00,0.00,0.00,0.00,0.00,0.00,0.00,0.00,...  \n",
       "7763  [0.87,0.00,0.00,0.00,0.00,0.00,0.00,0.00,0.00,...  \n",
       "7764  [1.00,0.00,0.00,0.00,0.00,0.00,0.00,0.00,0.00,...  \n",
       "\n",
       "[7765 rows x 3 columns]"
      ]
     },
     "execution_count": 21,
     "metadata": {},
     "output_type": "execute_result"
    }
   ],
   "source": [
    "output"
   ]
  },
  {
   "cell_type": "code",
   "execution_count": 22,
   "id": "c100eec5-a844-4b8d-abc0-36f473127bcc",
   "metadata": {},
   "outputs": [],
   "source": [
    "output.to_csv('./prediction/final_submission.csv', index=False)"
   ]
  },
  {
   "cell_type": "code",
   "execution_count": null,
   "id": "21a68d1c-c1cc-412b-b26c-7901dfb56212",
   "metadata": {},
   "outputs": [],
   "source": []
  }
 ],
 "metadata": {
  "kernelspec": {
   "display_name": "Python 3 (ipykernel)",
   "language": "python",
   "name": "python3"
  },
  "language_info": {
   "codemirror_mode": {
    "name": "ipython",
    "version": 3
   },
   "file_extension": ".py",
   "mimetype": "text/x-python",
   "name": "python",
   "nbconvert_exporter": "python",
   "pygments_lexer": "ipython3",
   "version": "3.8.5"
  }
 },
 "nbformat": 4,
 "nbformat_minor": 5
}
